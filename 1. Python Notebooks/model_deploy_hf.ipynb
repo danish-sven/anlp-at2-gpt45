{
 "cells": [
  {
   "cell_type": "code",
   "execution_count": 8,
   "metadata": {},
   "outputs": [],
   "source": [
    "# load the packages\n",
    "import torch\n",
    "from transformers import GPT2Tokenizer, GPT2LMHeadModel,BartTokenizer,BartForConditionalGeneration"
   ]
  },
  {
   "cell_type": "code",
   "execution_count": 2,
   "metadata": {},
   "outputs": [],
   "source": [
    "# Load trained model (GPT2 model based on native language=='Japanese')\n",
    "output_dir = \"../7. Models/\"+'80K_GPT2_v2'+\"/\"\n",
    "model = GPT2LMHeadModel.from_pretrained(output_dir)\n",
    "tokenizer = GPT2Tokenizer.from_pretrained(output_dir)"
   ]
  },
  {
   "cell_type": "code",
   "execution_count": 5,
   "metadata": {},
   "outputs": [
    {
     "data": {
      "application/vnd.jupyter.widget-view+json": {
       "model_id": "fe96492b1dc04eaca08a3173903dedda",
       "version_major": 2,
       "version_minor": 0
      },
      "text/plain": [
       "VBox(children=(HTML(value='<center> <img\\nsrc=https://huggingface.co/front/assets/huggingface_logo-noborder.sv…"
      ]
     },
     "metadata": {},
     "output_type": "display_data"
    }
   ],
   "source": [
    "# login the hugging face\n",
    "from huggingface_hub import notebook_login\n",
    "notebook_login()"
   ]
  },
  {
   "cell_type": "code",
   "execution_count": null,
   "metadata": {},
   "outputs": [],
   "source": [
    "# push the GPT2 model to hugging face\n",
    "model.push_to_hub(\"amyyang/80K-GPT2-v2\")"
   ]
  },
  {
   "cell_type": "code",
   "execution_count": null,
   "metadata": {},
   "outputs": [],
   "source": [
    "# push the GPT2 tokenizer to hugging face\n",
    "tokenizer.push_to_hub(\"amyyang/token-80K-GPT2-v2\")"
   ]
  },
  {
   "cell_type": "code",
   "execution_count": 3,
   "metadata": {},
   "outputs": [],
   "source": [
    "# Load trained model (GPT2 model based on native language=='Japanese')\n",
    "output_dir = \"../7. Models/\"+'80K_BART_v2'+\"/\"\n",
    "model_bart = BartForConditionalGeneration.from_pretrained(output_dir)\n",
    "tokenizer_bart = BartTokenizer.from_pretrained(output_dir)"
   ]
  },
  {
   "cell_type": "code",
   "execution_count": null,
   "metadata": {},
   "outputs": [],
   "source": [
    "# push the BART model to hugging face\n",
    "model_bart.push_to_hub(\"amyyang/80K-BART-v2\")"
   ]
  },
  {
   "cell_type": "code",
   "execution_count": null,
   "metadata": {},
   "outputs": [],
   "source": [
    "# push the BART tokenizer to hugging face\n",
    "tokenizer_bart.push_to_hub(\"amyyang/token-80K-BART-v2\")"
   ]
  },
  {
   "cell_type": "code",
   "execution_count": 4,
   "metadata": {},
   "outputs": [],
   "source": [
    "# Load trained model (BART model based on native language=='Mandarin')\n",
    "output_dir = \"../7. Models/\"+'BART_MDN_60K_v2'+\"/\"\n",
    "model_bart_mdn = BartForConditionalGeneration.from_pretrained(output_dir)\n",
    "tokenizer_bart_mdn = BartTokenizer.from_pretrained(output_dir)"
   ]
  },
  {
   "cell_type": "code",
   "execution_count": 6,
   "metadata": {},
   "outputs": [
    {
     "data": {
      "application/vnd.jupyter.widget-view+json": {
       "model_id": "8ebabab8aca84e1ca2d7f32763dc6fe2",
       "version_major": 2,
       "version_minor": 0
      },
      "text/plain": [
       "Upload 1 LFS files:   0%|          | 0/1 [00:00<?, ?it/s]"
      ]
     },
     "metadata": {},
     "output_type": "display_data"
    },
    {
     "data": {
      "application/vnd.jupyter.widget-view+json": {
       "model_id": "a994baae13334909aba31b9a9b80fdb4",
       "version_major": 2,
       "version_minor": 0
      },
      "text/plain": [
       "pytorch_model.bin:   0%|          | 0.00/1.63G [00:00<?, ?B/s]"
      ]
     },
     "metadata": {},
     "output_type": "display_data"
    },
    {
     "data": {
      "text/plain": [
       "CommitInfo(commit_url='https://huggingface.co/amyyang/60K-BART-MDN-v2/commit/494ed9cca46bf051d7e5c01e65b346a0fce012b2', commit_message='Upload BartForConditionalGeneration', commit_description='', oid='494ed9cca46bf051d7e5c01e65b346a0fce012b2', pr_url=None, pr_revision=None, pr_num=None)"
      ]
     },
     "execution_count": 6,
     "metadata": {},
     "output_type": "execute_result"
    }
   ],
   "source": [
    "# push the BART model to hugging face\n",
    "model_bart_mdn.push_to_hub(\"amyyang/60K-BART-MDN-v2\")"
   ]
  },
  {
   "cell_type": "code",
   "execution_count": 12,
   "metadata": {},
   "outputs": [
    {
     "data": {
      "text/plain": [
       "CommitInfo(commit_url='https://huggingface.co/amyyang/token-60K-BART-MDN-v2/commit/b2e43a78af11a87f6c1db0a852fe9e5e48579612', commit_message='Upload tokenizer', commit_description='', oid='b2e43a78af11a87f6c1db0a852fe9e5e48579612', pr_url=None, pr_revision=None, pr_num=None)"
      ]
     },
     "execution_count": 12,
     "metadata": {},
     "output_type": "execute_result"
    }
   ],
   "source": [
    "# push the BART tokenizer to hugging face\n",
    "tokenizer_bart_mdn.push_to_hub(\"amyyang/token-60K-BART-MDN-v2\")"
   ]
  },
  {
   "cell_type": "code",
   "execution_count": 9,
   "metadata": {},
   "outputs": [],
   "source": [
    "# Load trained model (GPT2 model based on native language=='Mandarin')\n",
    "output_dir = \"../7. Models/\"+'GPT2_MDN_40K_v2'+\"/\"\n",
    "model_mdn = GPT2LMHeadModel.from_pretrained(output_dir)\n",
    "tokenizer_mdn = GPT2Tokenizer.from_pretrained(output_dir)"
   ]
  },
  {
   "cell_type": "code",
   "execution_count": 10,
   "metadata": {},
   "outputs": [
    {
     "data": {
      "application/vnd.jupyter.widget-view+json": {
       "model_id": "b94faefc16594b499c70d69639f29077",
       "version_major": 2,
       "version_minor": 0
      },
      "text/plain": [
       "Upload 1 LFS files:   0%|          | 0/1 [00:00<?, ?it/s]"
      ]
     },
     "metadata": {},
     "output_type": "display_data"
    },
    {
     "data": {
      "application/vnd.jupyter.widget-view+json": {
       "model_id": "22e31e2acdc448f4a5579c4d31888837",
       "version_major": 2,
       "version_minor": 0
      },
      "text/plain": [
       "pytorch_model.bin:   0%|          | 0.00/510M [00:00<?, ?B/s]"
      ]
     },
     "metadata": {},
     "output_type": "display_data"
    },
    {
     "data": {
      "text/plain": [
       "CommitInfo(commit_url='https://huggingface.co/amyyang/40K-GPT2-MDN-v2/commit/51d7c59b3407e328515b6881045850f04ce0c062', commit_message='Upload model', commit_description='', oid='51d7c59b3407e328515b6881045850f04ce0c062', pr_url=None, pr_revision=None, pr_num=None)"
      ]
     },
     "execution_count": 10,
     "metadata": {},
     "output_type": "execute_result"
    }
   ],
   "source": [
    "# push the GPT2 model to hugging face\n",
    "model_mdn.push_to_hub(\"amyyang/40K-GPT2-MDN-v2\")"
   ]
  },
  {
   "cell_type": "code",
   "execution_count": 11,
   "metadata": {},
   "outputs": [
    {
     "data": {
      "text/plain": [
       "CommitInfo(commit_url='https://huggingface.co/amyyang/token-40K-GPT2-MDN-v2/commit/976d3c0aea251656247342674c97b810c7bef2bc', commit_message='Upload tokenizer', commit_description='', oid='976d3c0aea251656247342674c97b810c7bef2bc', pr_url=None, pr_revision=None, pr_num=None)"
      ]
     },
     "execution_count": 11,
     "metadata": {},
     "output_type": "execute_result"
    }
   ],
   "source": [
    "# push the GPT2 tokenizer to hugging face\n",
    "tokenizer_mdn.push_to_hub(\"amyyang/token-40K-GPT2-MDN-v2\")"
   ]
  },
  {
   "cell_type": "code",
   "execution_count": null,
   "metadata": {},
   "outputs": [],
   "source": []
  }
 ],
 "metadata": {
  "kernelspec": {
   "display_name": "Python 3",
   "language": "python",
   "name": "python3"
  },
  "language_info": {
   "codemirror_mode": {
    "name": "ipython",
    "version": 3
   },
   "file_extension": ".py",
   "mimetype": "text/x-python",
   "name": "python",
   "nbconvert_exporter": "python",
   "pygments_lexer": "ipython3",
   "version": "3.9.0"
  },
  "orig_nbformat": 4
 },
 "nbformat": 4,
 "nbformat_minor": 2
}
