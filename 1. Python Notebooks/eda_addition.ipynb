{
 "cells": [
  {
   "cell_type": "code",
   "execution_count": 20,
   "metadata": {},
   "outputs": [],
   "source": [
    "import pandas as pd\n",
    "import seaborn as sns"
   ]
  },
  {
   "cell_type": "code",
   "execution_count": 2,
   "metadata": {},
   "outputs": [],
   "source": [
    "# Create the filepath for csv file\n",
    "import os\n",
    "parent_folder = os.path.dirname(os.path.abspath(os.getcwd()))\n",
    "file=os.path.join(parent_folder, '2. Raw Data/Japanese_to_English_cleaned.csv')"
   ]
  },
  {
   "cell_type": "code",
   "execution_count": 7,
   "metadata": {},
   "outputs": [],
   "source": [
    "# Read the csv file\n",
    "df_c=pd.read_csv(file)"
   ]
  },
  {
   "cell_type": "code",
   "execution_count": 9,
   "metadata": {},
   "outputs": [
    {
     "data": {
      "text/plain": [
       "(823026, 7)"
      ]
     },
     "execution_count": 9,
     "metadata": {},
     "output_type": "execute_result"
    }
   ],
   "source": [
    "df_c.shape"
   ]
  },
  {
   "cell_type": "code",
   "execution_count": 16,
   "metadata": {},
   "outputs": [
    {
     "data": {
      "text/html": [
       "<div>\n",
       "<style scoped>\n",
       "    .dataframe tbody tr th:only-of-type {\n",
       "        vertical-align: middle;\n",
       "    }\n",
       "\n",
       "    .dataframe tbody tr th {\n",
       "        vertical-align: top;\n",
       "    }\n",
       "\n",
       "    .dataframe thead th {\n",
       "        text-align: right;\n",
       "    }\n",
       "</style>\n",
       "<table border=\"1\" class=\"dataframe\">\n",
       "  <thead>\n",
       "    <tr style=\"text-align: right;\">\n",
       "      <th></th>\n",
       "      <th>Unnamed: 0</th>\n",
       "      <th>original</th>\n",
       "      <th>word_count_original</th>\n",
       "      <th>corrected_fs</th>\n",
       "      <th>word_count_corrected_fs</th>\n",
       "      <th>word_count_diff</th>\n",
       "      <th>word_count_ratio</th>\n",
       "    </tr>\n",
       "  </thead>\n",
       "  <tbody>\n",
       "    <tr>\n",
       "      <th>42535</th>\n",
       "      <td>47437</td>\n",
       "      <td>They look like very yummy.</td>\n",
       "      <td>5</td>\n",
       "      <td>They look very yummy.</td>\n",
       "      <td>4</td>\n",
       "      <td>-1</td>\n",
       "      <td>0.8</td>\n",
       "    </tr>\n",
       "  </tbody>\n",
       "</table>\n",
       "</div>"
      ],
      "text/plain": [
       "       Unnamed: 0                    original  word_count_original  \\\n",
       "42535       47437  They look like very yummy.                    5   \n",
       "\n",
       "                corrected_fs  word_count_corrected_fs  word_count_diff  \\\n",
       "42535  They look very yummy.                        4               -1   \n",
       "\n",
       "       word_count_ratio  \n",
       "42535               0.8  "
      ]
     },
     "execution_count": 16,
     "metadata": {},
     "output_type": "execute_result"
    }
   ],
   "source": [
    "df_c[df_c['original']=='They look like very yummy.']"
   ]
  },
  {
   "cell_type": "code",
   "execution_count": 15,
   "metadata": {},
   "outputs": [],
   "source": [
    "# drop duplicated rows\n",
    "df_c.drop_duplicates(subset=['original','corrected_fs'],inplace=True)"
   ]
  },
  {
   "cell_type": "code",
   "execution_count": 17,
   "metadata": {},
   "outputs": [
    {
     "data": {
      "text/plain": [
       "(799487, 7)"
      ]
     },
     "execution_count": 17,
     "metadata": {},
     "output_type": "execute_result"
    }
   ],
   "source": [
    "# display the shape of data again\n",
    "df_c.shape"
   ]
  },
  {
   "cell_type": "code",
   "execution_count": 19,
   "metadata": {},
   "outputs": [
    {
     "data": {
      "text/plain": [
       "(681409, 7)"
      ]
     },
     "execution_count": 19,
     "metadata": {},
     "output_type": "execute_result"
    }
   ],
   "source": [
    "# drop duplicated rows\n",
    "df_c.drop_duplicates(subset=['original']).shape"
   ]
  },
  {
   "cell_type": "code",
   "execution_count": 1,
   "metadata": {},
   "outputs": [
    {
     "ename": "NameError",
     "evalue": "name 'sns' is not defined",
     "output_type": "error",
     "traceback": [
      "\u001b[0;31m---------------------------------------------------------------------------\u001b[0m",
      "\u001b[0;31mNameError\u001b[0m                                 Traceback (most recent call last)",
      "Cell \u001b[0;32mIn[1], line 1\u001b[0m\n\u001b[0;32m----> 1\u001b[0m sns\u001b[39m.\u001b[39mhistplot(data\u001b[39m=\u001b[39mdf_c,x\u001b[39m=\u001b[39m\u001b[39m'\u001b[39m\u001b[39mword_count_original\u001b[39m\u001b[39m'\u001b[39m)\n",
      "\u001b[0;31mNameError\u001b[0m: name 'sns' is not defined"
     ]
    }
   ],
   "source": [
    "sns.histplot(data=df_c,x='word_count_original')"
   ]
  },
  {
   "cell_type": "code",
   "execution_count": 29,
   "metadata": {},
   "outputs": [],
   "source": [
    "df_new=df_c.drop_duplicates(subset=['original']).reset_index(drop=True)"
   ]
  },
  {
   "cell_type": "code",
   "execution_count": 31,
   "metadata": {},
   "outputs": [
    {
     "data": {
      "text/plain": [
       "(681409, 7)"
      ]
     },
     "execution_count": 31,
     "metadata": {},
     "output_type": "execute_result"
    }
   ],
   "source": [
    "df_new.shape"
   ]
  },
  {
   "cell_type": "code",
   "execution_count": 32,
   "metadata": {},
   "outputs": [
    {
     "data": {
      "text/plain": [
       "<Axes: xlabel='word_count_original', ylabel='Count'>"
      ]
     },
     "execution_count": 32,
     "metadata": {},
     "output_type": "execute_result"
    },
    {
     "data": {
      "image/png": "[encoded data removed]",
      "text/plain": [
       "<Figure size 640x480 with 1 Axes>"
      ]
     },
     "metadata": {},
     "output_type": "display_data"
    }
   ],
   "source": [
    "sns.histplot(data=df_new,x='word_count_original')"
   ]
  },
  {
   "cell_type": "code",
   "execution_count": 33,
   "metadata": {},
   "outputs": [
    {
     "data": {
      "text/plain": [
       "<Axes: xlabel='word_count_corrected_fs', ylabel='Count'>"
      ]
     },
     "execution_count": 33,
     "metadata": {},
     "output_type": "execute_result"
    },
    {
     "data": {
      "image/png": "[encoded data removed]",
      "text/plain": [
       "<Figure size 640x480 with 1 Axes>"
      ]
     },
     "metadata": {},
     "output_type": "display_data"
    }
   ],
   "source": [
    "sns.histplot(data=df_new,x='word_count_corrected_fs')"
   ]
  },
  {
   "cell_type": "code",
   "execution_count": 62,
   "metadata": {},
   "outputs": [
    {
     "data": {
      "text/plain": [
       "Unnamed: 0                 133838\n",
       "original                   133838\n",
       "word_count_original        133838\n",
       "corrected_fs               133838\n",
       "word_count_corrected_fs    133838\n",
       "word_count_diff            133838\n",
       "word_count_ratio           133838\n",
       "dtype: int64"
      ]
     },
     "execution_count": 62,
     "metadata": {},
     "output_type": "execute_result"
    }
   ],
   "source": [
    "df_new[df_new['word_count_original']>15].count()"
   ]
  },
  {
   "cell_type": "code",
   "execution_count": 61,
   "metadata": {},
   "outputs": [
    {
     "data": {
      "text/plain": [
       "Unnamed: 0                 190407\n",
       "original                   190407\n",
       "word_count_original        190407\n",
       "corrected_fs               190407\n",
       "word_count_corrected_fs    190407\n",
       "word_count_diff            190407\n",
       "word_count_ratio           190407\n",
       "dtype: int64"
      ]
     },
     "execution_count": 61,
     "metadata": {},
     "output_type": "execute_result"
    }
   ],
   "source": [
    "df_new[(df_new['word_count_original']>10)&(df_new['word_count_original']<=15)].count()"
   ]
  },
  {
   "cell_type": "code",
   "execution_count": 64,
   "metadata": {},
   "outputs": [
    {
     "data": {
      "text/plain": [
       "Unnamed: 0                 302543\n",
       "original                   302543\n",
       "word_count_original        302543\n",
       "corrected_fs               302543\n",
       "word_count_corrected_fs    302543\n",
       "word_count_diff            302543\n",
       "word_count_ratio           302543\n",
       "dtype: int64"
      ]
     },
     "execution_count": 64,
     "metadata": {},
     "output_type": "execute_result"
    }
   ],
   "source": [
    "df_new[df_new['word_count_original']<10].count()"
   ]
  },
  {
   "cell_type": "code",
   "execution_count": 58,
   "metadata": {},
   "outputs": [
    {
     "data": {
      "text/plain": [
       "Unnamed: 0                 127565\n",
       "original                   127565\n",
       "word_count_original        127565\n",
       "corrected_fs               127565\n",
       "word_count_corrected_fs    127565\n",
       "word_count_diff            127565\n",
       "word_count_ratio           127565\n",
       "dtype: int64"
      ]
     },
     "execution_count": 58,
     "metadata": {},
     "output_type": "execute_result"
    }
   ],
   "source": [
    "df_new[(df_new['word_count_diff']==0)&(df_new['word_count_original']<10)].count()"
   ]
  },
  {
   "cell_type": "code",
   "execution_count": 40,
   "metadata": {},
   "outputs": [],
   "source": [
    "# Create the filepath for csv file\n",
    "import os\n",
    "parent_folder = os.path.dirname(os.path.abspath(os.getcwd()))\n",
    "file_pos=os.path.join(parent_folder, '2. Raw Data/Japanese_to_English_pos.csv')"
   ]
  },
  {
   "cell_type": "code",
   "execution_count": 41,
   "metadata": {},
   "outputs": [],
   "source": [
    "# Read the csv file\n",
    "df_pos=pd.read_csv(file_pos)"
   ]
  },
  {
   "cell_type": "code",
   "execution_count": 42,
   "metadata": {},
   "outputs": [
    {
     "data": {
      "text/plain": [
       "(823026, 36)"
      ]
     },
     "execution_count": 42,
     "metadata": {},
     "output_type": "execute_result"
    }
   ],
   "source": [
    "df_pos.shape"
   ]
  },
  {
   "cell_type": "code",
   "execution_count": 44,
   "metadata": {},
   "outputs": [],
   "source": [
    "df_pos_new=df_pos.drop_duplicates(subset=['original']).reset_index(drop=True)"
   ]
  },
  {
   "cell_type": "code",
   "execution_count": 49,
   "metadata": {},
   "outputs": [
    {
     "data": {
      "text/html": [
       "<div>\n",
       "<style scoped>\n",
       "    .dataframe tbody tr th:only-of-type {\n",
       "        vertical-align: middle;\n",
       "    }\n",
       "\n",
       "    .dataframe tbody tr th {\n",
       "        vertical-align: top;\n",
       "    }\n",
       "\n",
       "    .dataframe thead th {\n",
       "        text-align: right;\n",
       "    }\n",
       "</style>\n",
       "<table border=\"1\" class=\"dataframe\">\n",
       "  <thead>\n",
       "    <tr style=\"text-align: right;\">\n",
       "      <th></th>\n",
       "      <th>Unnamed: 0</th>\n",
       "      <th>original</th>\n",
       "      <th>word_count_original</th>\n",
       "      <th>corrected_fs</th>\n",
       "      <th>word_count_corrected_fs</th>\n",
       "      <th>word_count_diff</th>\n",
       "      <th>word_count_ratio</th>\n",
       "      <th>o_pos_tags</th>\n",
       "      <th>o_num_verbs</th>\n",
       "      <th>o_num_nouns</th>\n",
       "      <th>...</th>\n",
       "      <th>c_num_modal</th>\n",
       "      <th>num_verbs_diff</th>\n",
       "      <th>num_nouns_diff</th>\n",
       "      <th>num_adjs_diff</th>\n",
       "      <th>num_adv_diff</th>\n",
       "      <th>num_pronoun_diff</th>\n",
       "      <th>num_preposition_diff</th>\n",
       "      <th>num_conjunction_diff</th>\n",
       "      <th>num_article_diff</th>\n",
       "      <th>num_modal_diff</th>\n",
       "    </tr>\n",
       "  </thead>\n",
       "  <tbody>\n",
       "    <tr>\n",
       "      <th>0</th>\n",
       "      <td>0</td>\n",
       "      <td>I will appreciate it if you correct my sentences.</td>\n",
       "      <td>9</td>\n",
       "      <td>I would appreciate it if you could correct my ...</td>\n",
       "      <td>10</td>\n",
       "      <td>1</td>\n",
       "      <td>1.111111</td>\n",
       "      <td>[('I', 'PRP'), ('will', 'MD'), ('appreciate', ...</td>\n",
       "      <td>2</td>\n",
       "      <td>1</td>\n",
       "      <td>...</td>\n",
       "      <td>2</td>\n",
       "      <td>0</td>\n",
       "      <td>0</td>\n",
       "      <td>0</td>\n",
       "      <td>0</td>\n",
       "      <td>0</td>\n",
       "      <td>0</td>\n",
       "      <td>0</td>\n",
       "      <td>0</td>\n",
       "      <td>1</td>\n",
       "    </tr>\n",
       "    <tr>\n",
       "      <th>1</th>\n",
       "      <td>1</td>\n",
       "      <td>It's been getting colder these days here in Ja...</td>\n",
       "      <td>9</td>\n",
       "      <td>It's been getting colder lately here in Japan.</td>\n",
       "      <td>8</td>\n",
       "      <td>-1</td>\n",
       "      <td>0.888889</td>\n",
       "      <td>[('It', 'PRP'), (\"'s\", 'VBZ'), ('been', 'VBN')...</td>\n",
       "      <td>3</td>\n",
       "      <td>3</td>\n",
       "      <td>...</td>\n",
       "      <td>0</td>\n",
       "      <td>0</td>\n",
       "      <td>-2</td>\n",
       "      <td>0</td>\n",
       "      <td>2</td>\n",
       "      <td>0</td>\n",
       "      <td>0</td>\n",
       "      <td>0</td>\n",
       "      <td>-1</td>\n",
       "      <td>0</td>\n",
       "    </tr>\n",
       "    <tr>\n",
       "      <th>2</th>\n",
       "      <td>2</td>\n",
       "      <td>The summer weather in Japan is not agreeable t...</td>\n",
       "      <td>16</td>\n",
       "      <td>I find Japan's summer weather disagreeable bec...</td>\n",
       "      <td>13</td>\n",
       "      <td>-3</td>\n",
       "      <td>0.812500</td>\n",
       "      <td>[('The', 'DT'), ('summer', 'NN'), ('weather', ...</td>\n",
       "      <td>1</td>\n",
       "      <td>5</td>\n",
       "      <td>...</td>\n",
       "      <td>0</td>\n",
       "      <td>0</td>\n",
       "      <td>0</td>\n",
       "      <td>0</td>\n",
       "      <td>-1</td>\n",
       "      <td>0</td>\n",
       "      <td>0</td>\n",
       "      <td>0</td>\n",
       "      <td>-1</td>\n",
       "      <td>0</td>\n",
       "    </tr>\n",
       "    <tr>\n",
       "      <th>3</th>\n",
       "      <td>3</td>\n",
       "      <td>So, as the winter is coming, I'm getting to fe...</td>\n",
       "      <td>11</td>\n",
       "      <td>So, as the winter is coming, I'm starting to f...</td>\n",
       "      <td>11</td>\n",
       "      <td>0</td>\n",
       "      <td>1.000000</td>\n",
       "      <td>[('So', 'RB'), (',', ','), ('as', 'IN'), ('the...</td>\n",
       "      <td>5</td>\n",
       "      <td>1</td>\n",
       "      <td>...</td>\n",
       "      <td>0</td>\n",
       "      <td>0</td>\n",
       "      <td>0</td>\n",
       "      <td>0</td>\n",
       "      <td>0</td>\n",
       "      <td>0</td>\n",
       "      <td>0</td>\n",
       "      <td>0</td>\n",
       "      <td>0</td>\n",
       "      <td>0</td>\n",
       "    </tr>\n",
       "    <tr>\n",
       "      <th>4</th>\n",
       "      <td>4</td>\n",
       "      <td>It is the very exciting season.</td>\n",
       "      <td>6</td>\n",
       "      <td>It is a very exciting season.</td>\n",
       "      <td>6</td>\n",
       "      <td>0</td>\n",
       "      <td>1.000000</td>\n",
       "      <td>[('It', 'PRP'), ('is', 'VBZ'), ('the', 'DT'), ...</td>\n",
       "      <td>1</td>\n",
       "      <td>1</td>\n",
       "      <td>...</td>\n",
       "      <td>0</td>\n",
       "      <td>0</td>\n",
       "      <td>0</td>\n",
       "      <td>0</td>\n",
       "      <td>0</td>\n",
       "      <td>0</td>\n",
       "      <td>0</td>\n",
       "      <td>0</td>\n",
       "      <td>0</td>\n",
       "      <td>0</td>\n",
       "    </tr>\n",
       "  </tbody>\n",
       "</table>\n",
       "<p>5 rows × 36 columns</p>\n",
       "</div>"
      ],
      "text/plain": [
       "   Unnamed: 0                                           original  \\\n",
       "0           0  I will appreciate it if you correct my sentences.   \n",
       "1           1  It's been getting colder these days here in Ja...   \n",
       "2           2  The summer weather in Japan is not agreeable t...   \n",
       "3           3  So, as the winter is coming, I'm getting to fe...   \n",
       "4           4                    It is the very exciting season.   \n",
       "\n",
       "   word_count_original                                       corrected_fs  \\\n",
       "0                    9  I would appreciate it if you could correct my ...   \n",
       "1                    9     It's been getting colder lately here in Japan.   \n",
       "2                   16  I find Japan's summer weather disagreeable bec...   \n",
       "3                   11  So, as the winter is coming, I'm starting to f...   \n",
       "4                    6                      It is a very exciting season.   \n",
       "\n",
       "   word_count_corrected_fs  word_count_diff  word_count_ratio  \\\n",
       "0                       10                1          1.111111   \n",
       "1                        8               -1          0.888889   \n",
       "2                       13               -3          0.812500   \n",
       "3                       11                0          1.000000   \n",
       "4                        6                0          1.000000   \n",
       "\n",
       "                                          o_pos_tags  o_num_verbs  \\\n",
       "0  [('I', 'PRP'), ('will', 'MD'), ('appreciate', ...            2   \n",
       "1  [('It', 'PRP'), (\"'s\", 'VBZ'), ('been', 'VBN')...            3   \n",
       "2  [('The', 'DT'), ('summer', 'NN'), ('weather', ...            1   \n",
       "3  [('So', 'RB'), (',', ','), ('as', 'IN'), ('the...            5   \n",
       "4  [('It', 'PRP'), ('is', 'VBZ'), ('the', 'DT'), ...            1   \n",
       "\n",
       "   o_num_nouns  ...  c_num_modal  num_verbs_diff  num_nouns_diff  \\\n",
       "0            1  ...            2               0               0   \n",
       "1            3  ...            0               0              -2   \n",
       "2            5  ...            0               0               0   \n",
       "3            1  ...            0               0               0   \n",
       "4            1  ...            0               0               0   \n",
       "\n",
       "   num_adjs_diff  num_adv_diff  num_pronoun_diff  num_preposition_diff  \\\n",
       "0              0             0                 0                     0   \n",
       "1              0             2                 0                     0   \n",
       "2              0            -1                 0                     0   \n",
       "3              0             0                 0                     0   \n",
       "4              0             0                 0                     0   \n",
       "\n",
       "  num_conjunction_diff  num_article_diff  num_modal_diff  \n",
       "0                    0                 0               1  \n",
       "1                    0                -1               0  \n",
       "2                    0                -1               0  \n",
       "3                    0                 0               0  \n",
       "4                    0                 0               0  \n",
       "\n",
       "[5 rows x 36 columns]"
      ]
     },
     "execution_count": 49,
     "metadata": {},
     "output_type": "execute_result"
    }
   ],
   "source": [
    "df_pos_new.head()"
   ]
  },
  {
   "cell_type": "code",
   "execution_count": 50,
   "metadata": {},
   "outputs": [],
   "source": [
    "df_pos_new.drop(columns=['Unnamed: 0'],inplace=True)"
   ]
  },
  {
   "cell_type": "code",
   "execution_count": 51,
   "metadata": {},
   "outputs": [
    {
     "name": "stdout",
     "output_type": "stream",
     "text": [
      "<class 'pandas.core.frame.DataFrame'>\n",
      "RangeIndex: 681409 entries, 0 to 681408\n",
      "Data columns (total 35 columns):\n",
      " #   Column                   Non-Null Count   Dtype  \n",
      "---  ------                   --------------   -----  \n",
      " 0   original                 681409 non-null  object \n",
      " 1   word_count_original      681409 non-null  int64  \n",
      " 2   corrected_fs             681409 non-null  object \n",
      " 3   word_count_corrected_fs  681409 non-null  int64  \n",
      " 4   word_count_diff          681409 non-null  int64  \n",
      " 5   word_count_ratio         681409 non-null  float64\n",
      " 6   o_pos_tags               681409 non-null  object \n",
      " 7   o_num_verbs              681409 non-null  int64  \n",
      " 8   o_num_nouns              681409 non-null  int64  \n",
      " 9   o_num_adjs               681409 non-null  int64  \n",
      " 10  o_num_adv                681409 non-null  int64  \n",
      " 11  o_num_pronoun            681409 non-null  int64  \n",
      " 12  o_num_preposition        681409 non-null  int64  \n",
      " 13  o_num_conjunction        681409 non-null  int64  \n",
      " 14  o_num_article            681409 non-null  int64  \n",
      " 15  o_num_modal              681409 non-null  int64  \n",
      " 16  c_pos_tags               681409 non-null  object \n",
      " 17  c_num_verbs              681409 non-null  int64  \n",
      " 18  c_num_nouns              681409 non-null  int64  \n",
      " 19  c_num_adjs               681409 non-null  int64  \n",
      " 20  c_num_adv                681409 non-null  int64  \n",
      " 21  c_num_pronoun            681409 non-null  int64  \n",
      " 22  c_num_preposition        681409 non-null  int64  \n",
      " 23  c_num_conjunction        681409 non-null  int64  \n",
      " 24  c_num_article            681409 non-null  int64  \n",
      " 25  c_num_modal              681409 non-null  int64  \n",
      " 26  num_verbs_diff           681409 non-null  int64  \n",
      " 27  num_nouns_diff           681409 non-null  int64  \n",
      " 28  num_adjs_diff            681409 non-null  int64  \n",
      " 29  num_adv_diff             681409 non-null  int64  \n",
      " 30  num_pronoun_diff         681409 non-null  int64  \n",
      " 31  num_preposition_diff     681409 non-null  int64  \n",
      " 32  num_conjunction_diff     681409 non-null  int64  \n",
      " 33  num_article_diff         681409 non-null  int64  \n",
      " 34  num_modal_diff           681409 non-null  int64  \n",
      "dtypes: float64(1), int64(30), object(4)\n",
      "memory usage: 182.0+ MB\n"
     ]
    }
   ],
   "source": [
    "df_pos_new.info()"
   ]
  },
  {
   "cell_type": "code",
   "execution_count": 47,
   "metadata": {},
   "outputs": [
    {
     "data": {
      "text/html": [
       "<div>\n",
       "<style scoped>\n",
       "    .dataframe tbody tr th:only-of-type {\n",
       "        vertical-align: middle;\n",
       "    }\n",
       "\n",
       "    .dataframe tbody tr th {\n",
       "        vertical-align: top;\n",
       "    }\n",
       "\n",
       "    .dataframe thead th {\n",
       "        text-align: right;\n",
       "    }\n",
       "</style>\n",
       "<table border=\"1\" class=\"dataframe\">\n",
       "  <thead>\n",
       "    <tr style=\"text-align: right;\">\n",
       "      <th></th>\n",
       "      <th>Unnamed: 0</th>\n",
       "      <th>word_count_original</th>\n",
       "      <th>word_count_corrected_fs</th>\n",
       "      <th>word_count_diff</th>\n",
       "      <th>word_count_ratio</th>\n",
       "      <th>o_num_verbs</th>\n",
       "      <th>o_num_nouns</th>\n",
       "      <th>o_num_adjs</th>\n",
       "      <th>o_num_adv</th>\n",
       "      <th>o_num_pronoun</th>\n",
       "      <th>...</th>\n",
       "      <th>c_num_modal</th>\n",
       "      <th>num_verbs_diff</th>\n",
       "      <th>num_nouns_diff</th>\n",
       "      <th>num_adjs_diff</th>\n",
       "      <th>num_adv_diff</th>\n",
       "      <th>num_pronoun_diff</th>\n",
       "      <th>num_preposition_diff</th>\n",
       "      <th>num_conjunction_diff</th>\n",
       "      <th>num_article_diff</th>\n",
       "      <th>num_modal_diff</th>\n",
       "    </tr>\n",
       "  </thead>\n",
       "  <tbody>\n",
       "    <tr>\n",
       "      <th>count</th>\n",
       "      <td>681409.000000</td>\n",
       "      <td>681409.000000</td>\n",
       "      <td>681409.000000</td>\n",
       "      <td>681409.000000</td>\n",
       "      <td>681409.000000</td>\n",
       "      <td>681409.000000</td>\n",
       "      <td>681409.000000</td>\n",
       "      <td>681409.000000</td>\n",
       "      <td>681409.000000</td>\n",
       "      <td>681409.000000</td>\n",
       "      <td>...</td>\n",
       "      <td>681409.000000</td>\n",
       "      <td>681409.000000</td>\n",
       "      <td>681409.000000</td>\n",
       "      <td>681409.000000</td>\n",
       "      <td>681409.000000</td>\n",
       "      <td>681409.000000</td>\n",
       "      <td>681409.000000</td>\n",
       "      <td>681409.000000</td>\n",
       "      <td>681409.000000</td>\n",
       "      <td>681409.000000</td>\n",
       "    </tr>\n",
       "    <tr>\n",
       "      <th>mean</th>\n",
       "      <td>460446.399631</td>\n",
       "      <td>11.493604</td>\n",
       "      <td>11.878370</td>\n",
       "      <td>0.384766</td>\n",
       "      <td>1.045227</td>\n",
       "      <td>2.335084</td>\n",
       "      <td>2.766042</td>\n",
       "      <td>0.924979</td>\n",
       "      <td>0.740225</td>\n",
       "      <td>1.460072</td>\n",
       "      <td>...</td>\n",
       "      <td>0.202118</td>\n",
       "      <td>0.068301</td>\n",
       "      <td>-0.017847</td>\n",
       "      <td>-0.007603</td>\n",
       "      <td>0.013638</td>\n",
       "      <td>0.061226</td>\n",
       "      <td>0.040657</td>\n",
       "      <td>-0.002085</td>\n",
       "      <td>0.139734</td>\n",
       "      <td>0.018192</td>\n",
       "    </tr>\n",
       "    <tr>\n",
       "      <th>std</th>\n",
       "      <td>266773.578239</td>\n",
       "      <td>5.890530</td>\n",
       "      <td>5.939197</td>\n",
       "      <td>1.415810</td>\n",
       "      <td>0.128917</td>\n",
       "      <td>1.431146</td>\n",
       "      <td>1.941251</td>\n",
       "      <td>1.007565</td>\n",
       "      <td>0.938803</td>\n",
       "      <td>1.150714</td>\n",
       "      <td>...</td>\n",
       "      <td>0.444605</td>\n",
       "      <td>0.652021</td>\n",
       "      <td>0.694758</td>\n",
       "      <td>0.520729</td>\n",
       "      <td>0.471943</td>\n",
       "      <td>0.465000</td>\n",
       "      <td>0.594541</td>\n",
       "      <td>0.237761</td>\n",
       "      <td>0.642410</td>\n",
       "      <td>0.239147</td>\n",
       "    </tr>\n",
       "    <tr>\n",
       "      <th>min</th>\n",
       "      <td>0.000000</td>\n",
       "      <td>4.000000</td>\n",
       "      <td>4.000000</td>\n",
       "      <td>-18.000000</td>\n",
       "      <td>0.753425</td>\n",
       "      <td>0.000000</td>\n",
       "      <td>0.000000</td>\n",
       "      <td>0.000000</td>\n",
       "      <td>0.000000</td>\n",
       "      <td>0.000000</td>\n",
       "      <td>...</td>\n",
       "      <td>0.000000</td>\n",
       "      <td>-7.000000</td>\n",
       "      <td>-12.000000</td>\n",
       "      <td>-6.000000</td>\n",
       "      <td>-5.000000</td>\n",
       "      <td>-5.000000</td>\n",
       "      <td>-7.000000</td>\n",
       "      <td>-8.000000</td>\n",
       "      <td>-7.000000</td>\n",
       "      <td>-3.000000</td>\n",
       "    </tr>\n",
       "    <tr>\n",
       "      <th>25%</th>\n",
       "      <td>229161.000000</td>\n",
       "      <td>7.000000</td>\n",
       "      <td>8.000000</td>\n",
       "      <td>0.000000</td>\n",
       "      <td>1.000000</td>\n",
       "      <td>1.000000</td>\n",
       "      <td>1.000000</td>\n",
       "      <td>0.000000</td>\n",
       "      <td>0.000000</td>\n",
       "      <td>1.000000</td>\n",
       "      <td>...</td>\n",
       "      <td>0.000000</td>\n",
       "      <td>0.000000</td>\n",
       "      <td>0.000000</td>\n",
       "      <td>0.000000</td>\n",
       "      <td>0.000000</td>\n",
       "      <td>0.000000</td>\n",
       "      <td>0.000000</td>\n",
       "      <td>0.000000</td>\n",
       "      <td>0.000000</td>\n",
       "      <td>0.000000</td>\n",
       "    </tr>\n",
       "    <tr>\n",
       "      <th>50%</th>\n",
       "      <td>461247.000000</td>\n",
       "      <td>10.000000</td>\n",
       "      <td>11.000000</td>\n",
       "      <td>0.000000</td>\n",
       "      <td>1.000000</td>\n",
       "      <td>2.000000</td>\n",
       "      <td>2.000000</td>\n",
       "      <td>1.000000</td>\n",
       "      <td>0.000000</td>\n",
       "      <td>1.000000</td>\n",
       "      <td>...</td>\n",
       "      <td>0.000000</td>\n",
       "      <td>0.000000</td>\n",
       "      <td>0.000000</td>\n",
       "      <td>0.000000</td>\n",
       "      <td>0.000000</td>\n",
       "      <td>0.000000</td>\n",
       "      <td>0.000000</td>\n",
       "      <td>0.000000</td>\n",
       "      <td>0.000000</td>\n",
       "      <td>0.000000</td>\n",
       "    </tr>\n",
       "    <tr>\n",
       "      <th>75%</th>\n",
       "      <td>692133.000000</td>\n",
       "      <td>14.000000</td>\n",
       "      <td>15.000000</td>\n",
       "      <td>1.000000</td>\n",
       "      <td>1.125000</td>\n",
       "      <td>3.000000</td>\n",
       "      <td>4.000000</td>\n",
       "      <td>1.000000</td>\n",
       "      <td>1.000000</td>\n",
       "      <td>2.000000</td>\n",
       "      <td>...</td>\n",
       "      <td>0.000000</td>\n",
       "      <td>0.000000</td>\n",
       "      <td>0.000000</td>\n",
       "      <td>0.000000</td>\n",
       "      <td>0.000000</td>\n",
       "      <td>0.000000</td>\n",
       "      <td>0.000000</td>\n",
       "      <td>0.000000</td>\n",
       "      <td>0.000000</td>\n",
       "      <td>0.000000</td>\n",
       "    </tr>\n",
       "    <tr>\n",
       "      <th>max</th>\n",
       "      <td>921662.000000</td>\n",
       "      <td>136.000000</td>\n",
       "      <td>126.000000</td>\n",
       "      <td>16.000000</td>\n",
       "      <td>1.484848</td>\n",
       "      <td>32.000000</td>\n",
       "      <td>43.000000</td>\n",
       "      <td>13.000000</td>\n",
       "      <td>12.000000</td>\n",
       "      <td>21.000000</td>\n",
       "      <td>...</td>\n",
       "      <td>8.000000</td>\n",
       "      <td>9.000000</td>\n",
       "      <td>12.000000</td>\n",
       "      <td>6.000000</td>\n",
       "      <td>7.000000</td>\n",
       "      <td>5.000000</td>\n",
       "      <td>5.000000</td>\n",
       "      <td>4.000000</td>\n",
       "      <td>9.000000</td>\n",
       "      <td>4.000000</td>\n",
       "    </tr>\n",
       "  </tbody>\n",
       "</table>\n",
       "<p>8 rows × 32 columns</p>\n",
       "</div>"
      ],
      "text/plain": [
       "          Unnamed: 0  word_count_original  word_count_corrected_fs  \\\n",
       "count  681409.000000        681409.000000            681409.000000   \n",
       "mean   460446.399631            11.493604                11.878370   \n",
       "std    266773.578239             5.890530                 5.939197   \n",
       "min         0.000000             4.000000                 4.000000   \n",
       "25%    229161.000000             7.000000                 8.000000   \n",
       "50%    461247.000000            10.000000                11.000000   \n",
       "75%    692133.000000            14.000000                15.000000   \n",
       "max    921662.000000           136.000000               126.000000   \n",
       "\n",
       "       word_count_diff  word_count_ratio    o_num_verbs    o_num_nouns  \\\n",
       "count    681409.000000     681409.000000  681409.000000  681409.000000   \n",
       "mean          0.384766          1.045227       2.335084       2.766042   \n",
       "std           1.415810          0.128917       1.431146       1.941251   \n",
       "min         -18.000000          0.753425       0.000000       0.000000   \n",
       "25%           0.000000          1.000000       1.000000       1.000000   \n",
       "50%           0.000000          1.000000       2.000000       2.000000   \n",
       "75%           1.000000          1.125000       3.000000       4.000000   \n",
       "max          16.000000          1.484848      32.000000      43.000000   \n",
       "\n",
       "          o_num_adjs      o_num_adv  o_num_pronoun  ...    c_num_modal  \\\n",
       "count  681409.000000  681409.000000  681409.000000  ...  681409.000000   \n",
       "mean        0.924979       0.740225       1.460072  ...       0.202118   \n",
       "std         1.007565       0.938803       1.150714  ...       0.444605   \n",
       "min         0.000000       0.000000       0.000000  ...       0.000000   \n",
       "25%         0.000000       0.000000       1.000000  ...       0.000000   \n",
       "50%         1.000000       0.000000       1.000000  ...       0.000000   \n",
       "75%         1.000000       1.000000       2.000000  ...       0.000000   \n",
       "max        13.000000      12.000000      21.000000  ...       8.000000   \n",
       "\n",
       "       num_verbs_diff  num_nouns_diff  num_adjs_diff   num_adv_diff  \\\n",
       "count   681409.000000   681409.000000  681409.000000  681409.000000   \n",
       "mean         0.068301       -0.017847      -0.007603       0.013638   \n",
       "std          0.652021        0.694758       0.520729       0.471943   \n",
       "min         -7.000000      -12.000000      -6.000000      -5.000000   \n",
       "25%          0.000000        0.000000       0.000000       0.000000   \n",
       "50%          0.000000        0.000000       0.000000       0.000000   \n",
       "75%          0.000000        0.000000       0.000000       0.000000   \n",
       "max          9.000000       12.000000       6.000000       7.000000   \n",
       "\n",
       "       num_pronoun_diff  num_preposition_diff  num_conjunction_diff  \\\n",
       "count     681409.000000         681409.000000         681409.000000   \n",
       "mean           0.061226              0.040657             -0.002085   \n",
       "std            0.465000              0.594541              0.237761   \n",
       "min           -5.000000             -7.000000             -8.000000   \n",
       "25%            0.000000              0.000000              0.000000   \n",
       "50%            0.000000              0.000000              0.000000   \n",
       "75%            0.000000              0.000000              0.000000   \n",
       "max            5.000000              5.000000              4.000000   \n",
       "\n",
       "       num_article_diff  num_modal_diff  \n",
       "count     681409.000000   681409.000000  \n",
       "mean           0.139734        0.018192  \n",
       "std            0.642410        0.239147  \n",
       "min           -7.000000       -3.000000  \n",
       "25%            0.000000        0.000000  \n",
       "50%            0.000000        0.000000  \n",
       "75%            0.000000        0.000000  \n",
       "max            9.000000        4.000000  \n",
       "\n",
       "[8 rows x 32 columns]"
      ]
     },
     "execution_count": 47,
     "metadata": {},
     "output_type": "execute_result"
    }
   ],
   "source": [
    "df_pos_new.describe()"
   ]
  },
  {
   "cell_type": "code",
   "execution_count": 53,
   "metadata": {},
   "outputs": [
    {
     "data": {
      "text/plain": [
       "original                   193725\n",
       "word_count_original        193725\n",
       "corrected_fs               193725\n",
       "word_count_corrected_fs    193725\n",
       "word_count_diff            193725\n",
       "word_count_ratio           193725\n",
       "o_pos_tags                 193725\n",
       "o_num_verbs                193725\n",
       "o_num_nouns                193725\n",
       "o_num_adjs                 193725\n",
       "o_num_adv                  193725\n",
       "o_num_pronoun              193725\n",
       "o_num_preposition          193725\n",
       "o_num_conjunction          193725\n",
       "o_num_article              193725\n",
       "o_num_modal                193725\n",
       "c_pos_tags                 193725\n",
       "c_num_verbs                193725\n",
       "c_num_nouns                193725\n",
       "c_num_adjs                 193725\n",
       "c_num_adv                  193725\n",
       "c_num_pronoun              193725\n",
       "c_num_preposition          193725\n",
       "c_num_conjunction          193725\n",
       "c_num_article              193725\n",
       "c_num_modal                193725\n",
       "num_verbs_diff             193725\n",
       "num_nouns_diff             193725\n",
       "num_adjs_diff              193725\n",
       "num_adv_diff               193725\n",
       "num_pronoun_diff           193725\n",
       "num_preposition_diff       193725\n",
       "num_conjunction_diff       193725\n",
       "num_article_diff           193725\n",
       "num_modal_diff             193725\n",
       "dtype: int64"
      ]
     },
     "execution_count": 53,
     "metadata": {},
     "output_type": "execute_result"
    }
   ],
   "source": [
    "df_pos_new[df_pos_new['num_verbs_diff']!=0].count()"
   ]
  },
  {
   "cell_type": "code",
   "execution_count": null,
   "metadata": {},
   "outputs": [],
   "source": []
  }
 ],
 "metadata": {
  "kernelspec": {
   "display_name": "Python 3",
   "language": "python",
   "name": "python3"
  },
  "language_info": {
   "codemirror_mode": {
    "name": "ipython",
    "version": 3
   },
   "file_extension": ".py",
   "mimetype": "text/x-python",
   "name": "python",
   "nbconvert_exporter": "python",
   "pygments_lexer": "ipython3",
   "version": "3.9.0"
  },
  "orig_nbformat": 4
 },
 "nbformat": 4,
 "nbformat_minor": 2
}
