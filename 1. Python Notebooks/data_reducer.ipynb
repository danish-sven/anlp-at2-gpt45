{
 "cells": [
  {
   "cell_type": "code",
   "execution_count": 1,
   "metadata": {},
   "outputs": [],
   "source": [
    "import pandas as pd\n",
    "import numpy as np\n",
    "\n",
    "csv_file = './../3. Cleaned Data/MDNtoEN_clean_SS.csv'\n",
    "\n",
    "df = pd.read_csv(csv_file)"
   ]
  },
  {
   "cell_type": "code",
   "execution_count": 2,
   "metadata": {},
   "outputs": [
    {
     "data": {
      "text/html": [
       "<div>\n",
       "<style scoped>\n",
       "    .dataframe tbody tr th:only-of-type {\n",
       "        vertical-align: middle;\n",
       "    }\n",
       "\n",
       "    .dataframe tbody tr th {\n",
       "        vertical-align: top;\n",
       "    }\n",
       "\n",
       "    .dataframe thead th {\n",
       "        text-align: right;\n",
       "    }\n",
       "</style>\n",
       "<table border=\"1\" class=\"dataframe\">\n",
       "  <thead>\n",
       "    <tr style=\"text-align: right;\">\n",
       "      <th></th>\n",
       "      <th>Unnamed: 0</th>\n",
       "      <th>original</th>\n",
       "      <th>corrected</th>\n",
       "    </tr>\n",
       "  </thead>\n",
       "  <tbody>\n",
       "    <tr>\n",
       "      <th>0</th>\n",
       "      <td>0</td>\n",
       "      <td>May be our parent would never realize the trau...</td>\n",
       "      <td>Maybe our parents would never realize the trau...</td>\n",
       "    </tr>\n",
       "    <tr>\n",
       "      <th>1</th>\n",
       "      <td>1</td>\n",
       "      <td>how successful was the league of nations in es...</td>\n",
       "      <td>How successful was the League of Nations in es...</td>\n",
       "    </tr>\n",
       "    <tr>\n",
       "      <th>2</th>\n",
       "      <td>2</td>\n",
       "      <td>The league of nations is an organization form ...</td>\n",
       "      <td>The League of Nations was an organization form...</td>\n",
       "    </tr>\n",
       "    <tr>\n",
       "      <th>3</th>\n",
       "      <td>3</td>\n",
       "      <td>however they are unsuccessful because most of ...</td>\n",
       "      <td>However the League was unsuccessful because it...</td>\n",
       "    </tr>\n",
       "    <tr>\n",
       "      <th>4</th>\n",
       "      <td>4</td>\n",
       "      <td>China on Tuesday condemned the honorary citize...</td>\n",
       "      <td>On Tuesday, China condemned the honorary citiz...</td>\n",
       "    </tr>\n",
       "  </tbody>\n",
       "</table>\n",
       "</div>"
      ],
      "text/plain": [
       "   Unnamed: 0                                           original  \\\n",
       "0           0  May be our parent would never realize the trau...   \n",
       "1           1  how successful was the league of nations in es...   \n",
       "2           2  The league of nations is an organization form ...   \n",
       "3           3  however they are unsuccessful because most of ...   \n",
       "4           4  China on Tuesday condemned the honorary citize...   \n",
       "\n",
       "                                           corrected  \n",
       "0  Maybe our parents would never realize the trau...  \n",
       "1  How successful was the League of Nations in es...  \n",
       "2  The League of Nations was an organization form...  \n",
       "3  However the League was unsuccessful because it...  \n",
       "4  On Tuesday, China condemned the honorary citiz...  "
      ]
     },
     "execution_count": 2,
     "metadata": {},
     "output_type": "execute_result"
    }
   ],
   "source": [
    "df.head()"
   ]
  },
  {
   "cell_type": "code",
   "execution_count": 3,
   "metadata": {},
   "outputs": [],
   "source": [
    "df.drop(columns=['Unnamed: 0'], inplace=True)"
   ]
  },
  {
   "cell_type": "code",
   "execution_count": 5,
   "metadata": {},
   "outputs": [],
   "source": [
    "# 20K\n",
    "\n",
    "# Sample 20K rows from the original dataset and write new csv files\n",
    "\n",
    "df20K = df.sample(20000, random_state=42)\n",
    "\n",
    "df40K = df.sample(40000, random_state=42)\n",
    "\n",
    "df60K = df.sample(60000, random_state=42)\n",
    "\n",
    "#df80K = df.sample(80000, random_state=42)\n",
    "\n",
    "df20K.to_csv('./../3. Cleaned Data/MDN_20K_v2.csv')\n",
    "\n",
    "df40K.to_csv('./../3. Cleaned Data/MDN_40K_v2.csv')\n",
    "\n",
    "df60K.to_csv('./../3. Cleaned Data/MDN_60K_v2.csv')\n",
    "\n",
    "#df80K.to_csv('./../3. Cleaned Data/MDN_80K_v2.csv')"
   ]
  }
 ],
 "metadata": {
  "kernelspec": {
   "display_name": "pytorch",
   "language": "python",
   "name": "python3"
  },
  "language_info": {
   "codemirror_mode": {
    "name": "ipython",
    "version": 3
   },
   "file_extension": ".py",
   "mimetype": "text/x-python",
   "name": "python",
   "nbconvert_exporter": "python",
   "pygments_lexer": "ipython3",
   "version": "3.11.2"
  },
  "orig_nbformat": 4
 },
 "nbformat": 4,
 "nbformat_minor": 2
}
