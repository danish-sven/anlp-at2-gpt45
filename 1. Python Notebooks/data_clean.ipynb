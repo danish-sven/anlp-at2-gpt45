{
 "cells": [
  {
   "cell_type": "code",
   "execution_count": 12,
   "metadata": {},
   "outputs": [
    {
     "name": "stdout",
     "output_type": "stream",
     "text": [
      "(2408334, 2)\n"
     ]
    }
   ],
   "source": [
    "\"\"\"\n",
    "This script reads a CSV file containing original and corrected sentences in English.\n",
    "It then cleans the dataset by:\n",
    "1. Removing uncorrected rows and rows with missing data.\n",
    "2. Ensuring both the \"original\" and \"corrected\" columns only contain string values.\n",
    "3. Removing non-English characters from the sentences.\n",
    "4. Filtering out rows that are not genuine corrections based on a threshold.\n",
    "\"\"\"\n",
    "import pandas as pd\n",
    "import re\n",
    "# from scripts.cosine_lev import calculate_cosine_similarity\n",
    "# from scripts.lev_distance import levenshtein_distance\n",
    "from sklearn.feature_extraction.text import TfidfVectorizer\n",
    "from sklearn.metrics.pairwise import cosine_similarity\n",
    "from multiprocessing import Pool, cpu_count\n",
    "\n",
    "\n",
    "# # Get the number of available CPU cores\n",
    "# num_cores = multiprocessing.cpu_count()\n",
    "\n",
    "# # Calculate the number of processors to use as max processors minus 1\n",
    "# num_processors = num_cores - 1\n",
    "\n",
    "# pool = multiprocessing.Pool()\n",
    "\n",
    "# Read the csv file\n",
    "file_path = \"/Users/stefanhall/Documents/Studies/MDSI/ANLP/AT2/anlp-at2-gpt45/2. Raw Data/Japanese_to_English.csv\"\n",
    "df = pd.read_csv(file_path)\n",
    "print(df.shape)"
   ]
  },
  {
   "cell_type": "code",
   "execution_count": 13,
   "metadata": {},
   "outputs": [
    {
     "name": "stdout",
     "output_type": "stream",
     "text": [
      "(1011172, 2)\n"
     ]
    }
   ],
   "source": [
    "def drop_uncorrected_and_missing_rows(df):\n",
    "    \"\"\"\n",
    "    Remove rows with uncorrected sentences and missing data, and ensure both \"original\"\n",
    "    and \"corrected\" columns only contain string values.\n",
    "    \n",
    "    Args:\n",
    "        df (pd.DataFrame): DataFrame containing the original and corrected sentences.\n",
    "    \n",
    "    Returns:\n",
    "        pd.DataFrame: DataFrame with uncorrected, missing and non-string rows removed.\n",
    "    \"\"\"\n",
    "    df = df[df[\"corrected\"] != \"Uncorrected\"]\n",
    "    df = df.dropna(subset=[\"original\", \"corrected\"])\n",
    "    df = df[df[[\"original\", \"corrected\"]].applymap(lambda x: isinstance(x, str)).all(axis=1)]\n",
    "    return df\n",
    "df_cleaned = drop_uncorrected_and_missing_rows(df)\n",
    "print(df_cleaned.shape)"
   ]
  },
  {
   "cell_type": "code",
   "execution_count": 14,
   "metadata": {},
   "outputs": [
    {
     "name": "stdout",
     "output_type": "stream",
     "text": [
      "(1011172, 2)\n",
      "(1011172, 2)\n"
     ]
    }
   ],
   "source": [
    "def remove_non_english_chars(df):\n",
    "    \"\"\"\n",
    "    Remove non-English characters from the \"original\" and \"corrected\" columns.\n",
    "    \n",
    "    Args:\n",
    "        df (pd.DataFrame): DataFrame containing the original and corrected sentences.\n",
    "    \n",
    "    Returns:\n",
    "        pd.DataFrame: DataFrame with non-English characters removed.\n",
    "    \"\"\"\n",
    "    df[\"original\"] = df[\"original\"].apply(lambda x: re.sub(r\"[^a-zA-Z0-9\\s.,!?'-]+\", \"\", x) if isinstance(x, str) else x)\n",
    "    df[\"corrected\"] = df[\"corrected\"].apply(lambda x: re.sub(r\"[^a-zA-Z0-9\\s.,!?'-]+\", \"\", x) if isinstance(x, str) else x)\n",
    "    return df\n",
    "print(df_cleaned.shape)\n",
    "df_cleaned = remove_non_english_chars(df_cleaned)\n",
    "print(df_cleaned.shape)"
   ]
  },
  {
   "cell_type": "code",
   "execution_count": 15,
   "metadata": {},
   "outputs": [
    {
     "name": "stdout",
     "output_type": "stream",
     "text": [
      "(1011172, 2)\n",
      "(789199, 2)\n"
     ]
    }
   ],
   "source": [
    "def filter_genuine_corrections(df, lower_threshold=0.75, upper_threshold=1.25):\n",
    "    \"\"\"\n",
    "    Filter out rows that are not genuine corrections based on lower and upper thresholds.\n",
    "    The thresholds allows difference in character lengths per row\n",
    "    \n",
    "    Args:\n",
    "        df (pd.DataFrame): DataFrame containing the original and corrected sentences.\n",
    "        lower_threshold (float): Lower threshold for considering a row as a genuine correction.\n",
    "        upper_threshold (float): Upper threshold for considering a row as a genuine correction.\n",
    "        \n",
    "    Returns:\n",
    "        pd.DataFrame: DataFrame containing genuine corrections only.\n",
    "    \"\"\"\n",
    "    \n",
    "    return df[df.apply(lambda row: lower_threshold * len(row[\"original\"]) <= len(row[\"corrected\"]) <= upper_threshold * len(row[\"original\"]), axis=1)]\n",
    "print(df_cleaned.shape)\n",
    "df_cleaned = filter_genuine_corrections(df_cleaned)\n",
    "print(df_cleaned.shape)\n"
   ]
  },
  {
   "cell_type": "code",
   "execution_count": 16,
   "metadata": {},
   "outputs": [],
   "source": [
    "df_cleaned.to_csv(\"../2. Raw Data/Japanese_to_English_cosine.csv\", index=False)"
   ]
  }
 ],
 "metadata": {
  "kernelspec": {
   "display_name": "base",
   "language": "python",
   "name": "python3"
  },
  "language_info": {
   "codemirror_mode": {
    "name": "ipython",
    "version": 3
   },
   "file_extension": ".py",
   "mimetype": "text/x-python",
   "name": "python",
   "nbconvert_exporter": "python",
   "pygments_lexer": "ipython3",
   "version": "3.9.13"
  },
  "orig_nbformat": 4
 },
 "nbformat": 4,
 "nbformat_minor": 2
}
