{
 "cells": [
  {
   "cell_type": "code",
   "execution_count": 1,
   "metadata": {},
   "outputs": [],
   "source": [
    "import argparse\n",
    "import codecs\n",
    "import json\n",
    "import re\n",
    "import platform\n",
    "import csv\n",
    "from itertools import combinations"
   ]
  },
  {
   "cell_type": "code",
   "execution_count": 2,
   "metadata": {},
   "outputs": [],
   "source": [
    "language = ['Korean', 'English', 'Japanese', 'Mandarin', 'Traditional Chinese',\n",
    "            'Vietnamese', 'German', 'French', 'Other language', 'Spanish',\n",
    "            'Indonesian', 'Russian', 'Arabic', 'Thai', 'Swedish', 'Dutch',\n",
    "            'Hebrew', 'Tagalog', 'Portuguese(Brazil)', 'Cantonese', 'Italian',\n",
    "            'Esperanto', 'Hawaiian', 'Afrikaans', 'Mongolian', 'Hindi', 'Polish',\n",
    "            'Finnish', 'Greek', 'Bihari', 'Farsi', 'Urdu', 'Turkish', 'Portuguese(Portugal)',\n",
    "            'Bulgarian', 'Norwegian', 'Romanian', 'Albanian', 'Ukrainian', 'Catalan',\n",
    "            'Latvian', 'Danish', 'Serbian', 'Slovak', 'Georgian', 'Hungarian', 'Malaysian',\n",
    "            'Icelandic', 'Latin', 'Laotian', 'Croatian', 'Lithuanian', 'Bengali', 'Tongan',\n",
    "            'Slovenian', 'Swahili', 'Irish', 'Czech', 'Estonian', 'Khmer', 'Javanese', 'Sinhalese',\n",
    "            'Sanskrit', 'Armenian', 'Tamil', 'Basque', 'Welsh', 'Bosnian', 'Macedonian', 'Telugu',\n",
    "            'Uzbek', 'Gaelic', 'Azerbaijanian', 'Tibetan', 'Panjabi', 'Marathi', 'Yiddish', 'Ainu',\n",
    "            'Haitian', 'Slavic']\n",
    "color_tags = [\"f-red\", \"f-blue\", \"f-bold\"]\n",
    "sline_tag = \"sline]\""
   ]
  },
  {
   "cell_type": "code",
   "execution_count": 12,
   "metadata": {},
   "outputs": [],
   "source": [
    "def main():\n",
    "    assert platform.python_version_tuple()[0] == '3', 'This program supports only python3'\n",
    "    args = parse_args()\n",
    "    data_num = 0\n",
    "    error_num = 0\n",
    "    with codecs.open(args.data_path, 'r', encoding='utf8') as f:\n",
    "        for line in f:\n",
    "            data_num += 1\n",
    "            try:\n",
    "                jsonData = json.loads(line, strict=False)\n",
    "                l2_langs, l1_lang = jsonData[2], jsonData[3]\n",
    "                orig_sents, corr_sents = jsonData[4], jsonData[5]\n",
    "                 \n",
    "            except:\n",
    "                error_num += 1\n",
    "                pass"
   ]
  },
  {
   "cell_type": "code",
   "execution_count": 45,
   "metadata": {},
   "outputs": [],
   "source": [
    "f = codecs.open(r'C:\\Users\\datat\\Documents\\GitHub\\anlp-at2-gpt45\\lang-8-20111007-L1-v2.dat', 'r', encoding='utf8')"
   ]
  },
  {
   "cell_type": "code",
   "execution_count": 46,
   "metadata": {},
   "outputs": [],
   "source": [
    "data_num = 0\n",
    "error_num = 0\n",
    "orig_sentences = []\n",
    "corr_sentences = []\n",
    "\n",
    "for line in f:\n",
    "    data_num +=1\n",
    "    try:\n",
    "        jsonData = json.loads(line, strict=False)\n",
    "        l2_langs, l1_lang = jsonData[2], jsonData[3]\n",
    "        orig_sents, corr_sents = jsonData[4], jsonData[5]\n",
    "        orig_sentences.append(jsonData[4])\n",
    "        corr_sentences.append(jsonData[5])\n",
    "    except:\n",
    "        error_num += 1\n",
    "        pass\n",
    "\n"
   ]
  },
  {
   "cell_type": "code",
   "execution_count": 48,
   "metadata": {},
   "outputs": [
    {
     "name": "stdout",
     "output_type": "stream",
     "text": [
      "['방학때 했던 일들 What I did during my summer vacation', 'Lang-8에는 Soyo씨가 \"민소주씨,you have to write more Korean entry.:)\"말했어요 하하하 아주 맞는 말이에요.', '그래서 이 문장 써되었어요.', 'Lang-8\\'s Soyo said this \"민소주씨,you have to write more Korean entry.:)\" Haha, and she\\'s right.', \"That's how I ended up writing this entry.\", '요즘에 한국어 공부를 많이 한 했어요.', '이번 방학은 느긋한 방학이 되었어요.', '그래도 매일 한 문장 쓰야하죠?', '그럼 맨날 쓰면 좋은 습관이 될거시죠.', 'ㅎㅎㅎㅎ 공부 많이 하지않았때문데, Lang-8 친구에서 배웠던거 단어와 표현이 다 잊혀버렸어요 ㅠ ㅠ 그래서 지금 더 열심히 공부해야겠다!', \"Recently I haven't been studying Korean.\", \"This summer vacation I've been really lazy.\", 'Still, I should at least write a passage daily right?', \"Then it'll become a good habit.\", \"I have forgotten almost all the words and expressions I've learned from my Lang-8 friends T T that's why I have to work even harder now!\", '그럼 뱅학때 내가 뭐 하고있었어요?', '이모랑 요리 좀 배웠거든요.', '드디어!', '재가 아직 복잡하는 음식이 만들 수 가없지만, 야채이나 간단하는거 할 수 있어요 ^^ 너무 즐거워요 요리 할 때.', '이모랑 얘기도 하고, 노래도 하고...', '가끔은 현재도 부엌에서 도와주고, 너무 행복해요 이런 날은.', 'Then what have I been doing during my vacation?', \"I've been learning cooking from my aunt.\", 'Finally!', \"Although I can't make complicated dishes, I can make vegetables dishes and other simple stuff ^^ Cooking is really fun.\", 'While we cook, my aunt and I chat, we sing...', 'Sometimes my siblings come into the kitchen to help, at times like this I feel very blissful.', '얼마 전에 두 권 한국배우기 책을 샀어요.', '연세대학교 출판의 \"한국어 2\"이에요.', '근데 내용을 중국어로 설명주신니까 좀 어려워더라...', '재 중국어 실력 별로 ㅎㅎㅎ ', 'Not long ago I bought two books for Korean learning books.', 'Its \"한국어 2\" published by Yonsei University.', 'But its a little hard for me to understand since its written in Chinese...', \"My Chinese isn't all that good hehe \", '몇일 전에 우리 집에 멀리지 않은 공원에서 달렸어요.', '아침 7시 공원에서 만나자!', '그렇게 재 사촌언니라 약속했거든요.', '제가 운동적 아니라 ㅎㅎ couch potato적 이에요 ^^ 그래서 조금만 뛰어도 줄곧 헐떡거려요.', '그래도 좋은 경험되었다 ^^ 내일도 가는 계획이 있어요.', 'A few days back I went running in a park near our house.', \"I made a promise with my cousin sister that we'd both show up at the park at 7.\", \"I'm less athletic and more of a couch potato ^^ So even a little running sends me into heavy breathing.\", 'Still it was a good experience ^^ I plan to go tomorrow too.', '아...', '제 갸야겠네요.', '아빠가 부르고 있어요, 그럼 다음에 봐요 여러분!', '^^ ', 'Ah...', 'I have no go now.', \"My dad's calling, see you guys next time!\", '^^', '새목표 --> 맨날 한국어 문장을 최소한 한장 쓰기.', 'New goal --> Write at least one Korean entry everyday.']\n"
     ]
    }
   ],
   "source": [
    "print(orig_sentences[1])"
   ]
  },
  {
   "cell_type": "code",
   "execution_count": 4,
   "metadata": {},
   "outputs": [],
   "source": [
    "def make_sent_pair(orig_sents, corr_sents, args):\n",
    "    outputs = []\n",
    "    for i, orig_sent in enumerate(orig_sents):\n",
    "        orig_sent = orig_sent.replace('\\t', ' ')\n",
    "        if len(corr_sents[i]) > 0:\n",
    "            tag_err = False\n",
    "            for corr_sent in corr_sents[i]:\n",
    "                corr_sent = corr_sent.replace('\\t', ' ')\n",
    "                text, tag_err = delete_tags_color(corr_sent, tag_err, args)\n",
    "                if sline_tag in text:\n",
    "                    text, tag_err = delete_tags_sline(text, tag_err, args)\n",
    "                if not tag_err and text != \"\":\n",
    "                    output = orig_sent + \"\\t\" + text\n",
    "                    outputs.append(output)\n",
    "        else:\n",
    "            output = orig_sent + \"\\t\" + orig_sent\n",
    "            outputs.append(output)\n",
    "\n",
    "    return outputs"
   ]
  },
  {
   "cell_type": "code",
   "execution_count": 5,
   "metadata": {},
   "outputs": [],
   "source": [
    "def delete_tags_sline(text, tag_err, args):\n",
    "    s_sline = \"[sline]\"\n",
    "    e_sline = \"[/sline]\"\n",
    "    if args.tags:\n",
    "        return text\n",
    "    words = text.split(\" \")\n",
    "    total_s = total_e = 0\n",
    "    output_lists, tmp_list = [], []\n",
    "    for word in words:\n",
    "        num_s = word.count(s_sline)\n",
    "        num_e = word.count(e_sline)\n",
    "\n",
    "        total_s += num_s\n",
    "        total_e += num_e\n",
    "        tmp_list.append(word)\n",
    "        if total_s == 0 and total_e == 0:\n",
    "            output_lists.append(word)\n",
    "            tmp_list = []\n",
    "        elif total_s == total_e:\n",
    "            tmp_text = \" \".join(tmp_list)\n",
    "            tmp_text = re.sub(r\"\\[sline\\](.*)\\[\\/sline\\]\", r\"\", tmp_text)\n",
    "            if tmp_text != \"\":\n",
    "                output_lists.append(tmp_text)\n",
    "            total_s = total_e = 0\n",
    "            tmp_list = []\n",
    "    text = \" \".join(output_lists)\n",
    "\n",
    "    if sline_tag in text:\n",
    "        tag_err = True\n",
    "\n",
    "    text = re.sub(r'\\s+', ' ', text)\n",
    "    return text, tag_err"
   ]
  },
  {
   "cell_type": "code",
   "execution_count": 7,
   "metadata": {},
   "outputs": [],
   "source": [
    "def delete_tags_color(text, tag_err, args):\n",
    "    if args.tags:\n",
    "        return text\n",
    "    text = replace_tags(text)\n",
    "\n",
    "    if text == None:\n",
    "        text = \"\"\n",
    "    for tag in color_tags:\n",
    "        s = \"\\[\" + tag + \"\\]\"\n",
    "        e = \"\\[\\/\" + tag + \"\\]\"\n",
    "        text = re.sub(r\"%s\" % s, r\"\", text)\n",
    "        text = re.sub(r\"%s\" % e, r\"\", text)\n",
    "        if tag in text:\n",
    "            tag_err = True\n",
    "\n",
    "    return text, tag_err"
   ]
  },
  {
   "cell_type": "code",
   "execution_count": 8,
   "metadata": {},
   "outputs": [],
   "source": [
    "def replace_tags(s):\n",
    "    s = s.replace(\"[赤]\", \"[f-red]\")\n",
    "    s = s.replace(\"[/赤]\", \"[/f-red]\")\n",
    "    s = s.replace(\"[青]\", \"[f-blue]\")\n",
    "    s = s.replace(\"[/青]\", \"[/f-blue]\")\n",
    "    return s"
   ]
  },
  {
   "cell_type": "code",
   "execution_count": 11,
   "metadata": {},
   "outputs": [],
   "source": [
    "def parse_args():\n",
    "    parser = argparse.ArgumentParser()\n",
    "    parser.add_argument(\"-d\", \"--data\", dest=\"data_path\", type=str, metavar='<str>', required=True, help=\"The path to the data set\")\n",
    "    parser.add_argument(\"-l2\", \"--learn-lang\", dest=\"l2\", type=str, metavar='<str>', required=False, default='English', help=\"L2 language\")\n",
    "    parser.add_argument(\"-l1\", \"--native-lang\", dest=\"l1\", type=str, metavar='<str>', required=False, default=None, help=\"L1 language\")\n",
    "    parser.add_argument(\"-tags\", \"--remain-tags\", dest=\"tags\", default=False, action='store_true', help=\"If you want to remain tags (e.g. [f-red]), please use this option\")\n",
    "\n",
    "    args = parser.parse_args()\n",
    "\n",
    "    assert args.l2 in language\n",
    "    if args.l1 != None:\n",
    "        assert args.l1 in language\n",
    "\n",
    "    return args"
   ]
  },
  {
   "cell_type": "code",
   "execution_count": null,
   "metadata": {},
   "outputs": [],
   "source": [
    "data = "
   ]
  }
 ],
 "metadata": {
  "kernelspec": {
   "display_name": "base",
   "language": "python",
   "name": "python3"
  },
  "language_info": {
   "codemirror_mode": {
    "name": "ipython",
    "version": 3
   },
   "file_extension": ".py",
   "mimetype": "text/x-python",
   "name": "python",
   "nbconvert_exporter": "python",
   "pygments_lexer": "ipython3",
   "version": "3.9.13"
  },
  "orig_nbformat": 4
 },
 "nbformat": 4,
 "nbformat_minor": 2
}
