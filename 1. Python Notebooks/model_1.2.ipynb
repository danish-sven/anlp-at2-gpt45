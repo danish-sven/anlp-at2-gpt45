{
 "cells": [
  {
   "cell_type": "code",
   "execution_count": 1,
   "metadata": {},
   "outputs": [],
   "source": [
    "import pandas as pd\n",
    "from sklearn.model_selection import train_test_split\n",
    "import re\n",
    "import torch\n",
    "from transformers import GPT2Tokenizer, GPT2LMHeadModel, GPT2Config, TextDataset, DataCollatorForLanguageModeling\n",
    "from transformers import Trainer, TrainingArguments\n",
    "from datasets import Dataset"
   ]
  },
  {
   "attachments": {},
   "cell_type": "markdown",
   "metadata": {},
   "source": [
    "## Important Step:\n",
    "please change the filename below to the file you want to use for training (This should not include the .csv)"
   ]
  },
  {
   "cell_type": "code",
   "execution_count": 23,
   "metadata": {},
   "outputs": [],
   "source": [
    "# Specify the training file to take. Change the hashes, filename = '###'\n",
    "filename = '40K'\n",
    "\n",
    "\n",
    "# Load the CSV file\n",
    "csv_file = './../3. Cleaned Data/'+filename+'.csv'\n",
    "df = pd.read_csv(csv_file)"
   ]
  },
  {
   "cell_type": "code",
   "execution_count": 3,
   "metadata": {},
   "outputs": [
    {
     "data": {
      "text/html": [
       "<div>\n",
       "<style scoped>\n",
       "    .dataframe tbody tr th:only-of-type {\n",
       "        vertical-align: middle;\n",
       "    }\n",
       "\n",
       "    .dataframe tbody tr th {\n",
       "        vertical-align: top;\n",
       "    }\n",
       "\n",
       "    .dataframe thead th {\n",
       "        text-align: right;\n",
       "    }\n",
       "</style>\n",
       "<table border=\"1\" class=\"dataframe\">\n",
       "  <thead>\n",
       "    <tr style=\"text-align: right;\">\n",
       "      <th></th>\n",
       "      <th>Unnamed: 0</th>\n",
       "      <th>original</th>\n",
       "      <th>word_count_original</th>\n",
       "      <th>corrected_fs</th>\n",
       "      <th>word_count_corrected_fs</th>\n",
       "      <th>word_count_diff</th>\n",
       "      <th>word_count_ratio</th>\n",
       "      <th>o_pos_tags</th>\n",
       "      <th>o_num_verbs</th>\n",
       "      <th>o_num_nouns</th>\n",
       "      <th>...</th>\n",
       "      <th>c_num_modal</th>\n",
       "      <th>num_verbs_diff</th>\n",
       "      <th>num_nouns_diff</th>\n",
       "      <th>num_adjs_diff</th>\n",
       "      <th>num_adv_diff</th>\n",
       "      <th>num_pronoun_diff</th>\n",
       "      <th>num_preposition_diff</th>\n",
       "      <th>num_conjunction_diff</th>\n",
       "      <th>num_article_diff</th>\n",
       "      <th>num_modal_diff</th>\n",
       "    </tr>\n",
       "  </thead>\n",
       "  <tbody>\n",
       "    <tr>\n",
       "      <th>0</th>\n",
       "      <td>539741</td>\n",
       "      <td>Since I have begun to live in London, I have b...</td>\n",
       "      <td>16</td>\n",
       "      <td>Since I have begun living in London, I have be...</td>\n",
       "      <td>15</td>\n",
       "      <td>-1</td>\n",
       "      <td>0.937500</td>\n",
       "      <td>[('Since', 'IN'), ('I', 'PRP'), ('have', 'VBP'...</td>\n",
       "      <td>7</td>\n",
       "      <td>2</td>\n",
       "      <td>...</td>\n",
       "      <td>0</td>\n",
       "      <td>-1</td>\n",
       "      <td>1</td>\n",
       "      <td>0</td>\n",
       "      <td>0</td>\n",
       "      <td>0</td>\n",
       "      <td>0</td>\n",
       "      <td>0</td>\n",
       "      <td>0</td>\n",
       "      <td>0</td>\n",
       "    </tr>\n",
       "    <tr>\n",
       "      <th>1</th>\n",
       "      <td>805208</td>\n",
       "      <td>If she heard my description of her, she would ...</td>\n",
       "      <td>12</td>\n",
       "      <td>If she had heard my description of her, she wo...</td>\n",
       "      <td>13</td>\n",
       "      <td>1</td>\n",
       "      <td>1.083333</td>\n",
       "      <td>[('If', 'IN'), ('she', 'PRP'), ('heard', 'VBD'...</td>\n",
       "      <td>2</td>\n",
       "      <td>2</td>\n",
       "      <td>...</td>\n",
       "      <td>1</td>\n",
       "      <td>1</td>\n",
       "      <td>0</td>\n",
       "      <td>0</td>\n",
       "      <td>0</td>\n",
       "      <td>0</td>\n",
       "      <td>0</td>\n",
       "      <td>0</td>\n",
       "      <td>0</td>\n",
       "      <td>0</td>\n",
       "    </tr>\n",
       "    <tr>\n",
       "      <th>2</th>\n",
       "      <td>553823</td>\n",
       "      <td>I never can do.</td>\n",
       "      <td>4</td>\n",
       "      <td>I could never do it.</td>\n",
       "      <td>5</td>\n",
       "      <td>1</td>\n",
       "      <td>1.250000</td>\n",
       "      <td>[('I', 'PRP'), ('never', 'RB'), ('can', 'MD'),...</td>\n",
       "      <td>1</td>\n",
       "      <td>0</td>\n",
       "      <td>...</td>\n",
       "      <td>1</td>\n",
       "      <td>0</td>\n",
       "      <td>0</td>\n",
       "      <td>0</td>\n",
       "      <td>0</td>\n",
       "      <td>1</td>\n",
       "      <td>0</td>\n",
       "      <td>0</td>\n",
       "      <td>0</td>\n",
       "      <td>0</td>\n",
       "    </tr>\n",
       "    <tr>\n",
       "      <th>3</th>\n",
       "      <td>792625</td>\n",
       "      <td>In the class I learned how to write paragraph ...</td>\n",
       "      <td>10</td>\n",
       "      <td>In the class I learned how to write paragraphs.</td>\n",
       "      <td>9</td>\n",
       "      <td>-1</td>\n",
       "      <td>0.900000</td>\n",
       "      <td>[('In', 'IN'), ('the', 'DT'), ('class', 'NN'),...</td>\n",
       "      <td>2</td>\n",
       "      <td>2</td>\n",
       "      <td>...</td>\n",
       "      <td>0</td>\n",
       "      <td>0</td>\n",
       "      <td>0</td>\n",
       "      <td>-1</td>\n",
       "      <td>0</td>\n",
       "      <td>0</td>\n",
       "      <td>0</td>\n",
       "      <td>0</td>\n",
       "      <td>0</td>\n",
       "      <td>0</td>\n",
       "    </tr>\n",
       "    <tr>\n",
       "      <th>4</th>\n",
       "      <td>686799</td>\n",
       "      <td>I think imitating is important thing to learn ...</td>\n",
       "      <td>9</td>\n",
       "      <td>I think imitating is important to learning Eng...</td>\n",
       "      <td>8</td>\n",
       "      <td>-1</td>\n",
       "      <td>0.888889</td>\n",
       "      <td>[('I', 'PRP'), ('think', 'VBP'), ('imitating',...</td>\n",
       "      <td>4</td>\n",
       "      <td>2</td>\n",
       "      <td>...</td>\n",
       "      <td>0</td>\n",
       "      <td>0</td>\n",
       "      <td>-1</td>\n",
       "      <td>0</td>\n",
       "      <td>0</td>\n",
       "      <td>0</td>\n",
       "      <td>0</td>\n",
       "      <td>0</td>\n",
       "      <td>0</td>\n",
       "      <td>0</td>\n",
       "    </tr>\n",
       "  </tbody>\n",
       "</table>\n",
       "<p>5 rows × 36 columns</p>\n",
       "</div>"
      ],
      "text/plain": [
       "   Unnamed: 0                                           original   \n",
       "0      539741  Since I have begun to live in London, I have b...  \\\n",
       "1      805208  If she heard my description of her, she would ...   \n",
       "2      553823                                    I never can do.   \n",
       "3      792625  In the class I learned how to write paragraph ...   \n",
       "4      686799  I think imitating is important thing to learn ...   \n",
       "\n",
       "   word_count_original                                       corrected_fs   \n",
       "0                   16  Since I have begun living in London, I have be...  \\\n",
       "1                   12  If she had heard my description of her, she wo...   \n",
       "2                    4                               I could never do it.   \n",
       "3                   10    In the class I learned how to write paragraphs.   \n",
       "4                    9  I think imitating is important to learning Eng...   \n",
       "\n",
       "   word_count_corrected_fs  word_count_diff  word_count_ratio   \n",
       "0                       15               -1          0.937500  \\\n",
       "1                       13                1          1.083333   \n",
       "2                        5                1          1.250000   \n",
       "3                        9               -1          0.900000   \n",
       "4                        8               -1          0.888889   \n",
       "\n",
       "                                          o_pos_tags  o_num_verbs   \n",
       "0  [('Since', 'IN'), ('I', 'PRP'), ('have', 'VBP'...            7  \\\n",
       "1  [('If', 'IN'), ('she', 'PRP'), ('heard', 'VBD'...            2   \n",
       "2  [('I', 'PRP'), ('never', 'RB'), ('can', 'MD'),...            1   \n",
       "3  [('In', 'IN'), ('the', 'DT'), ('class', 'NN'),...            2   \n",
       "4  [('I', 'PRP'), ('think', 'VBP'), ('imitating',...            4   \n",
       "\n",
       "   o_num_nouns  ...  c_num_modal  num_verbs_diff  num_nouns_diff   \n",
       "0            2  ...            0              -1               1  \\\n",
       "1            2  ...            1               1               0   \n",
       "2            0  ...            1               0               0   \n",
       "3            2  ...            0               0               0   \n",
       "4            2  ...            0               0              -1   \n",
       "\n",
       "   num_adjs_diff  num_adv_diff  num_pronoun_diff  num_preposition_diff   \n",
       "0              0             0                 0                     0  \\\n",
       "1              0             0                 0                     0   \n",
       "2              0             0                 1                     0   \n",
       "3             -1             0                 0                     0   \n",
       "4              0             0                 0                     0   \n",
       "\n",
       "  num_conjunction_diff  num_article_diff  num_modal_diff  \n",
       "0                    0                 0               0  \n",
       "1                    0                 0               0  \n",
       "2                    0                 0               0  \n",
       "3                    0                 0               0  \n",
       "4                    0                 0               0  \n",
       "\n",
       "[5 rows x 36 columns]"
      ]
     },
     "execution_count": 3,
     "metadata": {},
     "output_type": "execute_result"
    }
   ],
   "source": [
    "df.head()"
   ]
  },
  {
   "cell_type": "code",
   "execution_count": 4,
   "metadata": {},
   "outputs": [],
   "source": [
    "# Change the column names in the dataframe\n",
    "df.rename(columns = {'corrected_fs':'corrected'}, inplace = True)"
   ]
  },
  {
   "cell_type": "code",
   "execution_count": 5,
   "metadata": {},
   "outputs": [],
   "source": [
    "# Split the dataset into train and validation sets\n",
    "train_df, val_df = train_test_split(df, test_size=0.1, random_state=42)\n",
    "\n",
    "# Convert the train and validation DataFrames to Hugging Face's Dataset instances\n",
    "train_dataset = Dataset.from_pandas(train_df)\n",
    "val_dataset = Dataset.from_pandas(val_df)"
   ]
  },
  {
   "cell_type": "code",
   "execution_count": 6,
   "metadata": {},
   "outputs": [],
   "source": [
    "# Chose the model\n",
    "model_name = 'gpt2'"
   ]
  },
  {
   "cell_type": "code",
   "execution_count": 7,
   "metadata": {},
   "outputs": [
    {
     "name": "stdout",
     "output_type": "stream",
     "text": [
      "This model will run on CUDA\n",
      "cuda:0\n"
     ]
    }
   ],
   "source": [
    "# Assign cuda to the device to use for training\n",
    "if torch.cuda.is_available(): \n",
    " dev = \"cuda:0\" \n",
    " print(\"This model will run on CUDA\")\n",
    "elif  torch.backends.mps.is_available(): \n",
    " dev = \"mps:0\"\n",
    " print(\"This model will run on MPS\")\n",
    "else:\n",
    " dev = \"cpu\" \n",
    " print(\"This model will run on CPU\")\n",
    "device = torch.device(dev) \n",
    "\n",
    "print(device)"
   ]
  },
  {
   "cell_type": "code",
   "execution_count": 8,
   "metadata": {},
   "outputs": [],
   "source": [
    "# Load the tokenizer and the model\n",
    "tokenizer = GPT2Tokenizer.from_pretrained(model_name)\n",
    "config = GPT2Config.from_pretrained(model_name)\n",
    "model = GPT2LMHeadModel.from_pretrained(model_name, config=config).to(device)"
   ]
  },
  {
   "cell_type": "code",
   "execution_count": 9,
   "metadata": {},
   "outputs": [],
   "source": [
    "# Ensure that the tokenizer uses the same special tokens as GPT-2\n",
    "tokenizer.pad_token = tokenizer.eos_token\n",
    "\n",
    "# Function to tokenize and format input-output pairs\n",
    "def tokenize_function(examples):\n",
    "    inputs = [f\"input: {orig} output: {corr}\" for orig, corr in zip(examples[\"original\"], examples[\"corrected\"])]\n",
    "    return tokenizer(inputs, padding=True, truncation=True, max_length=512, return_tensors='pt')"
   ]
  },
  {
   "cell_type": "code",
   "execution_count": 10,
   "metadata": {},
   "outputs": [
    {
     "data": {
      "application/vnd.jupyter.widget-view+json": {
       "model_id": "c96c68d2b8bd4d5c9fe40dadfcbbde73",
       "version_major": 2,
       "version_minor": 0
      },
      "text/plain": [
       "Map:   0%|          | 0/18000 [00:00<?, ? examples/s]"
      ]
     },
     "metadata": {},
     "output_type": "display_data"
    },
    {
     "data": {
      "application/vnd.jupyter.widget-view+json": {
       "model_id": "853914deb59e47839995d8666a435161",
       "version_major": 2,
       "version_minor": 0
      },
      "text/plain": [
       "Map:   0%|          | 0/2000 [00:00<?, ? examples/s]"
      ]
     },
     "metadata": {},
     "output_type": "display_data"
    }
   ],
   "source": [
    "# Tokenize the train and validation data\n",
    "train_dataset = train_dataset.map(tokenize_function, batched=True, remove_columns=['original', 'corrected'])\n",
    "val_dataset = val_dataset.map(tokenize_function, batched=True, remove_columns=['original', 'corrected'])"
   ]
  },
  {
   "cell_type": "code",
   "execution_count": 11,
   "metadata": {},
   "outputs": [],
   "source": [
    "# Define the training arguments\n",
    "training_args = TrainingArguments(\n",
    "    output_dir=\"output\",\n",
    "    overwrite_output_dir=True,\n",
    "    num_train_epochs=3,\n",
    "    per_device_train_batch_size=8,\n",
    "    per_device_eval_batch_size=8,\n",
    "    eval_steps=500,\n",
    "    save_steps=500,\n",
    "    warmup_steps=200,\n",
    "    logging_dir=\"logs\",\n",
    "    evaluation_strategy=\"steps\",\n",
    "    logging_steps=100,\n",
    ")"
   ]
  },
  {
   "cell_type": "code",
   "execution_count": 12,
   "metadata": {},
   "outputs": [],
   "source": [
    "# Define a custom loss function to focus on the \"output\" tokens\n",
    "def custom_loss_function(outputs, labels):\n",
    "    shift_logits = outputs.logits[..., :-1, :].contiguous()\n",
    "    shift_labels = labels[..., 1:].contiguous()\n",
    "    loss = torch.nn.CrossEntropyLoss()(shift_logits, shift_labels)\n",
    "    return loss"
   ]
  },
  {
   "cell_type": "code",
   "execution_count": 13,
   "metadata": {},
   "outputs": [],
   "source": [
    "# Define a custom Trainer class that inherits from the original Trainer\n",
    "class CustomTrainer(Trainer):\n",
    "    \n",
    "    # Override the compute_loss method to use a custom loss function\n",
    "    def compute_loss(self, model, inputs, return_outputs=False):\n",
    "        # Get the labels from the inputs dictionary and remove them from the inputs\n",
    "        labels = inputs.pop(\"labels\")\n",
    "        \n",
    "        # Get the model outputs by passing the inputs to the model\n",
    "        outputs = model(**inputs)\n",
    "        \n",
    "        # Extract the logits from the model outputs\n",
    "        logits = outputs.logits\n",
    "        \n",
    "        # Get the correct dimensions for the shift_labels tensor\n",
    "        shift_labels = labels[..., 1:].reshape(-1)\n",
    "\n",
    "        # Reshape the shift_logits tensor to align with the dimensions of the shift_labels tensor\n",
    "        shift_logits = logits[..., :-1, :].reshape(-1, logits.size(-1))\n",
    "\n",
    "        loss = torch.nn.CrossEntropyLoss()(shift_logits, shift_labels)\n",
    "\n",
    "        if return_outputs:\n",
    "            return loss, outputs\n",
    "        \n",
    "        # Otherwise, just return the loss\n",
    "        return loss\n",
    "\n",
    "# Create the custom Trainer with the custom loss function\n",
    "trainer = CustomTrainer(\n",
    "    model=model,\n",
    "    args=training_args,\n",
    "    train_dataset=train_dataset,\n",
    "    eval_dataset=val_dataset,\n",
    "    \n",
    "    # Use the DataCollatorForLanguageModeling to handle the data collation\n",
    "    # Set mlm=False, as we are not using masked language modeling\n",
    "    data_collator=DataCollatorForLanguageModeling(tokenizer=tokenizer, mlm=False)\n",
    ")"
   ]
  },
  {
   "cell_type": "code",
   "execution_count": 14,
   "metadata": {},
   "outputs": [
    {
     "name": "stdout",
     "output_type": "stream",
     "text": [
      "GPT2LMHeadModel(\n",
      "  (transformer): GPT2Model(\n",
      "    (wte): Embedding(50257, 768)\n",
      "    (wpe): Embedding(1024, 768)\n",
      "    (drop): Dropout(p=0.1, inplace=False)\n",
      "    (h): ModuleList(\n",
      "      (0-11): 12 x GPT2Block(\n",
      "        (ln_1): LayerNorm((768,), eps=1e-05, elementwise_affine=True)\n",
      "        (attn): GPT2Attention(\n",
      "          (c_attn): Conv1D()\n",
      "          (c_proj): Conv1D()\n",
      "          (attn_dropout): Dropout(p=0.1, inplace=False)\n",
      "          (resid_dropout): Dropout(p=0.1, inplace=False)\n",
      "        )\n",
      "        (ln_2): LayerNorm((768,), eps=1e-05, elementwise_affine=True)\n",
      "        (mlp): GPT2MLP(\n",
      "          (c_fc): Conv1D()\n",
      "          (c_proj): Conv1D()\n",
      "          (act): NewGELUActivation()\n",
      "          (dropout): Dropout(p=0.1, inplace=False)\n",
      "        )\n",
      "      )\n",
      "    )\n",
      "    (ln_f): LayerNorm((768,), eps=1e-05, elementwise_affine=True)\n",
      "  )\n",
      "  (lm_head): Linear(in_features=768, out_features=50257, bias=False)\n",
      ")\n",
      "cuda:0\n"
     ]
    }
   ],
   "source": [
    "print(model)\n",
    "print(device)"
   ]
  },
  {
   "cell_type": "code",
   "execution_count": 15,
   "metadata": {},
   "outputs": [
    {
     "name": "stderr",
     "output_type": "stream",
     "text": [
      "/home/timlinux/anaconda3/envs/llama/lib/python3.10/site-packages/transformers/optimization.py:391: FutureWarning: This implementation of AdamW is deprecated and will be removed in a future version. Use the PyTorch implementation torch.optim.AdamW instead, or set `no_deprecation_warning=True` to disable this warning\n",
      "  warnings.warn(\n"
     ]
    },
    {
     "data": {
      "application/vnd.jupyter.widget-view+json": {
       "model_id": "2c715d8441b642d7b91364175dd3d946",
       "version_major": 2,
       "version_minor": 0
      },
      "text/plain": [
       "  0%|          | 0/6750 [00:00<?, ?it/s]"
      ]
     },
     "metadata": {},
     "output_type": "display_data"
    },
    {
     "name": "stdout",
     "output_type": "stream",
     "text": [
      "{'loss': 3.1382, 'learning_rate': 2.5e-05, 'epoch': 0.04}\n",
      "{'loss': 2.5698, 'learning_rate': 5e-05, 'epoch': 0.09}\n",
      "{'loss': 2.5266, 'learning_rate': 4.923664122137405e-05, 'epoch': 0.13}\n",
      "{'loss': 2.4917, 'learning_rate': 4.847328244274809e-05, 'epoch': 0.18}\n",
      "{'loss': 2.4935, 'learning_rate': 4.7709923664122144e-05, 'epoch': 0.22}\n"
     ]
    },
    {
     "data": {
      "application/vnd.jupyter.widget-view+json": {
       "model_id": "fa1f083d6a7c4bc0bcba53b6f1e6130c",
       "version_major": 2,
       "version_minor": 0
      },
      "text/plain": [
       "  0%|          | 0/250 [00:00<?, ?it/s]"
      ]
     },
     "metadata": {},
     "output_type": "display_data"
    },
    {
     "name": "stdout",
     "output_type": "stream",
     "text": [
      "{'eval_loss': 2.3650121688842773, 'eval_runtime': 2.9561, 'eval_samples_per_second': 676.575, 'eval_steps_per_second': 84.572, 'epoch': 0.22}\n",
      "{'loss': 2.4111, 'learning_rate': 4.694656488549619e-05, 'epoch': 0.27}\n",
      "{'loss': 2.4188, 'learning_rate': 4.618320610687023e-05, 'epoch': 0.31}\n",
      "{'loss': 2.4324, 'learning_rate': 4.541984732824428e-05, 'epoch': 0.36}\n",
      "{'loss': 2.4366, 'learning_rate': 4.465648854961832e-05, 'epoch': 0.4}\n",
      "{'loss': 2.4007, 'learning_rate': 4.389312977099237e-05, 'epoch': 0.44}\n"
     ]
    },
    {
     "data": {
      "application/vnd.jupyter.widget-view+json": {
       "model_id": "234bda67490f4ad4b78440b61d2c7736",
       "version_major": 2,
       "version_minor": 0
      },
      "text/plain": [
       "  0%|          | 0/250 [00:00<?, ?it/s]"
      ]
     },
     "metadata": {},
     "output_type": "display_data"
    },
    {
     "name": "stdout",
     "output_type": "stream",
     "text": [
      "{'eval_loss': 2.3255860805511475, 'eval_runtime': 2.9581, 'eval_samples_per_second': 676.104, 'eval_steps_per_second': 84.513, 'epoch': 0.44}\n",
      "{'loss': 2.388, 'learning_rate': 4.312977099236641e-05, 'epoch': 0.49}\n",
      "{'loss': 2.3941, 'learning_rate': 4.236641221374046e-05, 'epoch': 0.53}\n",
      "{'loss': 2.3798, 'learning_rate': 4.160305343511451e-05, 'epoch': 0.58}\n",
      "{'loss': 2.4025, 'learning_rate': 4.0839694656488554e-05, 'epoch': 0.62}\n",
      "{'loss': 2.331, 'learning_rate': 4.00763358778626e-05, 'epoch': 0.67}\n"
     ]
    },
    {
     "data": {
      "application/vnd.jupyter.widget-view+json": {
       "model_id": "88d0ea8d4d5442f8815a78143d094f3d",
       "version_major": 2,
       "version_minor": 0
      },
      "text/plain": [
       "  0%|          | 0/250 [00:00<?, ?it/s]"
      ]
     },
     "metadata": {},
     "output_type": "display_data"
    },
    {
     "name": "stdout",
     "output_type": "stream",
     "text": [
      "{'eval_loss': 2.293044328689575, 'eval_runtime': 2.9301, 'eval_samples_per_second': 682.569, 'eval_steps_per_second': 85.321, 'epoch': 0.67}\n",
      "{'loss': 2.3312, 'learning_rate': 3.9312977099236644e-05, 'epoch': 0.71}\n",
      "{'loss': 2.3359, 'learning_rate': 3.854961832061069e-05, 'epoch': 0.76}\n",
      "{'loss': 2.3214, 'learning_rate': 3.778625954198473e-05, 'epoch': 0.8}\n",
      "{'loss': 2.3077, 'learning_rate': 3.702290076335878e-05, 'epoch': 0.84}\n",
      "{'loss': 2.3597, 'learning_rate': 3.625954198473282e-05, 'epoch': 0.89}\n"
     ]
    },
    {
     "data": {
      "application/vnd.jupyter.widget-view+json": {
       "model_id": "e21a74ca92ef41fc95f54bc679a38686",
       "version_major": 2,
       "version_minor": 0
      },
      "text/plain": [
       "  0%|          | 0/250 [00:00<?, ?it/s]"
      ]
     },
     "metadata": {},
     "output_type": "display_data"
    },
    {
     "name": "stdout",
     "output_type": "stream",
     "text": [
      "{'eval_loss': 2.2830474376678467, 'eval_runtime': 2.9374, 'eval_samples_per_second': 680.866, 'eval_steps_per_second': 85.108, 'epoch': 0.89}\n",
      "{'loss': 2.3186, 'learning_rate': 3.549618320610687e-05, 'epoch': 0.93}\n",
      "{'loss': 2.3074, 'learning_rate': 3.473282442748092e-05, 'epoch': 0.98}\n",
      "{'loss': 2.2553, 'learning_rate': 3.3969465648854964e-05, 'epoch': 1.02}\n",
      "{'loss': 2.0927, 'learning_rate': 3.320610687022901e-05, 'epoch': 1.07}\n",
      "{'loss': 2.1058, 'learning_rate': 3.2442748091603054e-05, 'epoch': 1.11}\n"
     ]
    },
    {
     "data": {
      "application/vnd.jupyter.widget-view+json": {
       "model_id": "95fac7419d5d4184a72a7cb2a5586f94",
       "version_major": 2,
       "version_minor": 0
      },
      "text/plain": [
       "  0%|          | 0/250 [00:00<?, ?it/s]"
      ]
     },
     "metadata": {},
     "output_type": "display_data"
    },
    {
     "name": "stdout",
     "output_type": "stream",
     "text": [
      "{'eval_loss': 2.285987377166748, 'eval_runtime': 2.9736, 'eval_samples_per_second': 672.596, 'eval_steps_per_second': 84.075, 'epoch': 1.11}\n",
      "{'loss': 2.1393, 'learning_rate': 3.16793893129771e-05, 'epoch': 1.16}\n",
      "{'loss': 2.1397, 'learning_rate': 3.091603053435115e-05, 'epoch': 1.2}\n",
      "{'loss': 2.1267, 'learning_rate': 3.0152671755725192e-05, 'epoch': 1.24}\n",
      "{'loss': 2.1414, 'learning_rate': 2.9389312977099237e-05, 'epoch': 1.29}\n",
      "{'loss': 2.1671, 'learning_rate': 2.862595419847328e-05, 'epoch': 1.33}\n"
     ]
    },
    {
     "data": {
      "application/vnd.jupyter.widget-view+json": {
       "model_id": "bf3a658129a945e491b87ada585a6fe1",
       "version_major": 2,
       "version_minor": 0
      },
      "text/plain": [
       "  0%|          | 0/250 [00:00<?, ?it/s]"
      ]
     },
     "metadata": {},
     "output_type": "display_data"
    },
    {
     "name": "stdout",
     "output_type": "stream",
     "text": [
      "{'eval_loss': 2.2715320587158203, 'eval_runtime': 2.9461, 'eval_samples_per_second': 678.871, 'eval_steps_per_second': 84.859, 'epoch': 1.33}\n",
      "{'loss': 2.1311, 'learning_rate': 2.7862595419847333e-05, 'epoch': 1.38}\n",
      "{'loss': 2.1323, 'learning_rate': 2.7099236641221375e-05, 'epoch': 1.42}\n",
      "{'loss': 2.1054, 'learning_rate': 2.633587786259542e-05, 'epoch': 1.47}\n",
      "{'loss': 2.152, 'learning_rate': 2.5572519083969464e-05, 'epoch': 1.51}\n",
      "{'loss': 2.1499, 'learning_rate': 2.4809160305343512e-05, 'epoch': 1.56}\n"
     ]
    },
    {
     "data": {
      "application/vnd.jupyter.widget-view+json": {
       "model_id": "9c515b2a52ba4fe9a254fb603e10c563",
       "version_major": 2,
       "version_minor": 0
      },
      "text/plain": [
       "  0%|          | 0/250 [00:00<?, ?it/s]"
      ]
     },
     "metadata": {},
     "output_type": "display_data"
    },
    {
     "name": "stdout",
     "output_type": "stream",
     "text": [
      "{'eval_loss': 2.2694404125213623, 'eval_runtime': 2.9689, 'eval_samples_per_second': 673.649, 'eval_steps_per_second': 84.206, 'epoch': 1.56}\n",
      "{'loss': 2.1065, 'learning_rate': 2.404580152671756e-05, 'epoch': 1.6}\n",
      "{'loss': 2.128, 'learning_rate': 2.3282442748091605e-05, 'epoch': 1.64}\n",
      "{'loss': 2.1369, 'learning_rate': 2.2519083969465647e-05, 'epoch': 1.69}\n",
      "{'loss': 2.1528, 'learning_rate': 2.1755725190839695e-05, 'epoch': 1.73}\n",
      "{'loss': 2.1486, 'learning_rate': 2.099236641221374e-05, 'epoch': 1.78}\n"
     ]
    },
    {
     "data": {
      "application/vnd.jupyter.widget-view+json": {
       "model_id": "118285e0718642578406c7b50b420364",
       "version_major": 2,
       "version_minor": 0
      },
      "text/plain": [
       "  0%|          | 0/250 [00:00<?, ?it/s]"
      ]
     },
     "metadata": {},
     "output_type": "display_data"
    },
    {
     "name": "stdout",
     "output_type": "stream",
     "text": [
      "{'eval_loss': 2.264956474304199, 'eval_runtime': 2.92, 'eval_samples_per_second': 684.932, 'eval_steps_per_second': 85.617, 'epoch': 1.78}\n",
      "{'loss': 2.1221, 'learning_rate': 2.0229007633587788e-05, 'epoch': 1.82}\n",
      "{'loss': 2.0999, 'learning_rate': 1.9465648854961833e-05, 'epoch': 1.87}\n",
      "{'loss': 2.1195, 'learning_rate': 1.8702290076335878e-05, 'epoch': 1.91}\n",
      "{'loss': 2.1016, 'learning_rate': 1.7938931297709923e-05, 'epoch': 1.96}\n",
      "{'loss': 2.1447, 'learning_rate': 1.717557251908397e-05, 'epoch': 2.0}\n"
     ]
    },
    {
     "data": {
      "application/vnd.jupyter.widget-view+json": {
       "model_id": "17ccfb3c12af4313810be99c889be230",
       "version_major": 2,
       "version_minor": 0
      },
      "text/plain": [
       "  0%|          | 0/250 [00:00<?, ?it/s]"
      ]
     },
     "metadata": {},
     "output_type": "display_data"
    },
    {
     "name": "stdout",
     "output_type": "stream",
     "text": [
      "{'eval_loss': 2.261399507522583, 'eval_runtime': 2.9322, 'eval_samples_per_second': 682.089, 'eval_steps_per_second': 85.261, 'epoch': 2.0}\n",
      "{'loss': 2.0226, 'learning_rate': 1.6412213740458016e-05, 'epoch': 2.04}\n",
      "{'loss': 2.0335, 'learning_rate': 1.5648854961832064e-05, 'epoch': 2.09}\n",
      "{'loss': 1.9968, 'learning_rate': 1.4885496183206107e-05, 'epoch': 2.13}\n",
      "{'loss': 1.9707, 'learning_rate': 1.4122137404580155e-05, 'epoch': 2.18}\n",
      "{'loss': 2.0311, 'learning_rate': 1.3358778625954198e-05, 'epoch': 2.22}\n"
     ]
    },
    {
     "data": {
      "application/vnd.jupyter.widget-view+json": {
       "model_id": "218c9df7d65c4749a0b8b80d5a95bc68",
       "version_major": 2,
       "version_minor": 0
      },
      "text/plain": [
       "  0%|          | 0/250 [00:00<?, ?it/s]"
      ]
     },
     "metadata": {},
     "output_type": "display_data"
    },
    {
     "name": "stdout",
     "output_type": "stream",
     "text": [
      "{'eval_loss': 2.2775356769561768, 'eval_runtime': 2.9464, 'eval_samples_per_second': 678.802, 'eval_steps_per_second': 84.85, 'epoch': 2.22}\n",
      "{'loss': 1.9978, 'learning_rate': 1.2595419847328243e-05, 'epoch': 2.27}\n",
      "{'loss': 1.9913, 'learning_rate': 1.1832061068702292e-05, 'epoch': 2.31}\n",
      "{'loss': 1.9719, 'learning_rate': 1.1068702290076336e-05, 'epoch': 2.36}\n",
      "{'loss': 2.0133, 'learning_rate': 1.0305343511450383e-05, 'epoch': 2.4}\n",
      "{'loss': 2.0168, 'learning_rate': 9.541984732824428e-06, 'epoch': 2.44}\n"
     ]
    },
    {
     "data": {
      "application/vnd.jupyter.widget-view+json": {
       "model_id": "f2289ccb7f384392b577689ceac9675e",
       "version_major": 2,
       "version_minor": 0
      },
      "text/plain": [
       "  0%|          | 0/250 [00:00<?, ?it/s]"
      ]
     },
     "metadata": {},
     "output_type": "display_data"
    },
    {
     "name": "stdout",
     "output_type": "stream",
     "text": [
      "{'eval_loss': 2.276672840118408, 'eval_runtime': 2.9495, 'eval_samples_per_second': 678.091, 'eval_steps_per_second': 84.761, 'epoch': 2.44}\n",
      "{'loss': 2.0195, 'learning_rate': 8.778625954198473e-06, 'epoch': 2.49}\n",
      "{'loss': 2.0133, 'learning_rate': 8.015267175572519e-06, 'epoch': 2.53}\n",
      "{'loss': 2.0059, 'learning_rate': 7.251908396946565e-06, 'epoch': 2.58}\n",
      "{'loss': 1.97, 'learning_rate': 6.4885496183206104e-06, 'epoch': 2.62}\n",
      "{'loss': 1.9781, 'learning_rate': 5.725190839694657e-06, 'epoch': 2.67}\n"
     ]
    },
    {
     "data": {
      "application/vnd.jupyter.widget-view+json": {
       "model_id": "c9ad8a4db4af4bb99d734025ac515bde",
       "version_major": 2,
       "version_minor": 0
      },
      "text/plain": [
       "  0%|          | 0/250 [00:00<?, ?it/s]"
      ]
     },
     "metadata": {},
     "output_type": "display_data"
    },
    {
     "name": "stdout",
     "output_type": "stream",
     "text": [
      "{'eval_loss': 2.2761130332946777, 'eval_runtime': 2.9775, 'eval_samples_per_second': 671.713, 'eval_steps_per_second': 83.964, 'epoch': 2.67}\n",
      "{'loss': 1.9875, 'learning_rate': 4.961832061068703e-06, 'epoch': 2.71}\n",
      "{'loss': 1.9956, 'learning_rate': 4.198473282442748e-06, 'epoch': 2.76}\n",
      "{'loss': 1.9862, 'learning_rate': 3.4351145038167944e-06, 'epoch': 2.8}\n",
      "{'loss': 1.9942, 'learning_rate': 2.6717557251908397e-06, 'epoch': 2.84}\n",
      "{'loss': 1.9888, 'learning_rate': 1.908396946564886e-06, 'epoch': 2.89}\n"
     ]
    },
    {
     "data": {
      "application/vnd.jupyter.widget-view+json": {
       "model_id": "c334a52392734789823cea25b5a5b1aa",
       "version_major": 2,
       "version_minor": 0
      },
      "text/plain": [
       "  0%|          | 0/250 [00:00<?, ?it/s]"
      ]
     },
     "metadata": {},
     "output_type": "display_data"
    },
    {
     "name": "stdout",
     "output_type": "stream",
     "text": [
      "{'eval_loss': 2.2746191024780273, 'eval_runtime': 2.928, 'eval_samples_per_second': 683.071, 'eval_steps_per_second': 85.384, 'epoch': 2.89}\n",
      "{'loss': 1.9911, 'learning_rate': 1.1450381679389313e-06, 'epoch': 2.93}\n",
      "{'loss': 2.0007, 'learning_rate': 3.816793893129771e-07, 'epoch': 2.98}\n",
      "{'train_runtime': 464.6042, 'train_samples_per_second': 116.228, 'train_steps_per_second': 14.528, 'train_loss': 2.1862977984393086, 'epoch': 3.0}\n"
     ]
    },
    {
     "data": {
      "text/plain": [
       "TrainOutput(global_step=6750, training_loss=2.1862977984393086, metrics={'train_runtime': 464.6042, 'train_samples_per_second': 116.228, 'train_steps_per_second': 14.528, 'train_loss': 2.1862977984393086, 'epoch': 3.0})"
      ]
     },
     "execution_count": 15,
     "metadata": {},
     "output_type": "execute_result"
    }
   ],
   "source": [
    "# Train the model\n",
    "trainer.train()"
   ]
  },
  {
   "cell_type": "code",
   "execution_count": 24,
   "metadata": {},
   "outputs": [
    {
     "data": {
      "text/plain": [
       "('../7. Models/40K/tokenizer_config.json',\n",
       " '../7. Models/40K/special_tokens_map.json',\n",
       " '../7. Models/40K/vocab.json',\n",
       " '../7. Models/40K/merges.txt',\n",
       " '../7. Models/40K/added_tokens.json')"
      ]
     },
     "execution_count": 24,
     "metadata": {},
     "output_type": "execute_result"
    }
   ],
   "source": [
    "# Save the trained model and tokenizer\n",
    "output_dir = \"../7. Models/\"+filename+\"/\"\n",
    "model.save_pretrained(output_dir)\n",
    "tokenizer.save_pretrained(output_dir)\n",
    "\n",
    "# Then compress with this command: tar czvf trained_model.tar.gz trained_model/\n",
    "# Upload to git/drive\n"
   ]
  },
  {
   "cell_type": "code",
   "execution_count": 21,
   "metadata": {},
   "outputs": [],
   "source": [
    "# Load trained model\n",
    "output_dir = \"../7. Models/\"+filename+\"/\"\n",
    "model = GPT2LMHeadModel.from_pretrained(output_dir)\n",
    "tokenizer = GPT2Tokenizer.from_pretrained(output_dir)\n"
   ]
  }
 ],
 "metadata": {
  "kernelspec": {
   "display_name": "base",
   "language": "python",
   "name": "python3"
  },
  "language_info": {
   "codemirror_mode": {
    "name": "ipython",
    "version": 3
   },
   "file_extension": ".py",
   "mimetype": "text/x-python",
   "name": "python",
   "nbconvert_exporter": "python",
   "pygments_lexer": "ipython3",
   "version": "3.10.11"
  },
  "orig_nbformat": 4
 },
 "nbformat": 4,
 "nbformat_minor": 2
}
