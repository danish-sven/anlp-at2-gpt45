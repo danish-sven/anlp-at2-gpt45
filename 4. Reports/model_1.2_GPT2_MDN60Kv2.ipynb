{
 "cells": [
  {
   "cell_type": "code",
   "execution_count": 1,
   "metadata": {},
   "outputs": [],
   "source": [
    "import pandas as pd\n",
    "from sklearn.model_selection import train_test_split\n",
    "import re\n",
    "import torch\n",
    "from transformers import GPT2Tokenizer, GPT2LMHeadModel, GPT2Config, TextDataset, DataCollatorForLanguageModeling\n",
    "from transformers import Trainer, TrainingArguments\n",
    "from datasets import Dataset"
   ]
  },
  {
   "attachments": {},
   "cell_type": "markdown",
   "metadata": {},
   "source": [
    "## Important Step:\n",
    "please change the filename below to the file you want to use for training (This should not include the .csv)"
   ]
  },
  {
   "cell_type": "code",
   "execution_count": 2,
   "metadata": {},
   "outputs": [],
   "source": [
    "# Specify the training file to take. Change the hashes, filename = '###'\n",
    "filename = 'MDN_40K_v2'\n",
    "\n",
    "\n",
    "# Load the CSV file\n",
    "csv_file = '../3. Cleaned Data/'+filename+'.csv'\n",
    "df = pd.read_csv(csv_file)"
   ]
  },
  {
   "cell_type": "code",
   "execution_count": 3,
   "metadata": {},
   "outputs": [
    {
     "data": {
      "text/html": [
       "<div>\n",
       "<style scoped>\n",
       "    .dataframe tbody tr th:only-of-type {\n",
       "        vertical-align: middle;\n",
       "    }\n",
       "\n",
       "    .dataframe tbody tr th {\n",
       "        vertical-align: top;\n",
       "    }\n",
       "\n",
       "    .dataframe thead th {\n",
       "        text-align: right;\n",
       "    }\n",
       "</style>\n",
       "<table border=\"1\" class=\"dataframe\">\n",
       "  <thead>\n",
       "    <tr style=\"text-align: right;\">\n",
       "      <th></th>\n",
       "      <th>Unnamed: 0</th>\n",
       "      <th>original</th>\n",
       "      <th>corrected</th>\n",
       "    </tr>\n",
       "  </thead>\n",
       "  <tbody>\n",
       "    <tr>\n",
       "      <th>0</th>\n",
       "      <td>10784</td>\n",
       "      <td>He is taller than boys at his age.</td>\n",
       "      <td>He is taller than most boys his age.</td>\n",
       "    </tr>\n",
       "    <tr>\n",
       "      <th>1</th>\n",
       "      <td>12111</td>\n",
       "      <td>All  in all ,media help develop society and in...</td>\n",
       "      <td>All in all, media helps develop society and in...</td>\n",
       "    </tr>\n",
       "    <tr>\n",
       "      <th>2</th>\n",
       "      <td>54521</td>\n",
       "      <td>I always tell myself to do hardwork ang try my...</td>\n",
       "      <td>I always tell myself to do hardwork and try my...</td>\n",
       "    </tr>\n",
       "    <tr>\n",
       "      <th>3</th>\n",
       "      <td>51688</td>\n",
       "      <td>Waiting for a sunny dateso that we can meet in...</td>\n",
       "      <td>Waiting for a sunny dateso that we can meet on...</td>\n",
       "    </tr>\n",
       "    <tr>\n",
       "      <th>4</th>\n",
       "      <td>39393</td>\n",
       "      <td>Taday is the third day .</td>\n",
       "      <td>Today is the third day .</td>\n",
       "    </tr>\n",
       "  </tbody>\n",
       "</table>\n",
       "</div>"
      ],
      "text/plain": [
       "   Unnamed: 0                                           original   \n",
       "0       10784                 He is taller than boys at his age.  \\\n",
       "1       12111  All  in all ,media help develop society and in...   \n",
       "2       54521  I always tell myself to do hardwork ang try my...   \n",
       "3       51688  Waiting for a sunny dateso that we can meet in...   \n",
       "4       39393                           Taday is the third day .   \n",
       "\n",
       "                                           corrected  \n",
       "0               He is taller than most boys his age.  \n",
       "1  All in all, media helps develop society and in...  \n",
       "2  I always tell myself to do hardwork and try my...  \n",
       "3  Waiting for a sunny dateso that we can meet on...  \n",
       "4                           Today is the third day .  "
      ]
     },
     "execution_count": 3,
     "metadata": {},
     "output_type": "execute_result"
    }
   ],
   "source": [
    "df.head()"
   ]
  },
  {
   "cell_type": "code",
   "execution_count": 4,
   "metadata": {},
   "outputs": [],
   "source": [
    "# Change the column names in the dataframe\n",
    "df.rename(columns = {'corrected_fs':'corrected'}, inplace = True)"
   ]
  },
  {
   "cell_type": "code",
   "execution_count": 5,
   "metadata": {},
   "outputs": [],
   "source": [
    "# Split the dataset into train and validation sets\n",
    "train_df, val_df = train_test_split(df, test_size=0.1, random_state=42)\n",
    "\n",
    "# Convert the train and validation DataFrames to Hugging Face's Dataset instances\n",
    "train_dataset = Dataset.from_pandas(train_df)\n",
    "val_dataset = Dataset.from_pandas(val_df)"
   ]
  },
  {
   "cell_type": "code",
   "execution_count": 6,
   "metadata": {},
   "outputs": [],
   "source": [
    "# Export the validation set\n",
    "val_file = './../3. Cleaned Data/'+filename+'_val.csv'\n",
    "val_df.to_csv(val_file, index=False)"
   ]
  },
  {
   "cell_type": "code",
   "execution_count": 7,
   "metadata": {},
   "outputs": [],
   "source": [
    "# Chose the model\n",
    "model_name = 'gpt2'"
   ]
  },
  {
   "cell_type": "code",
   "execution_count": 8,
   "metadata": {},
   "outputs": [
    {
     "name": "stdout",
     "output_type": "stream",
     "text": [
      "This model will run on CUDA\n",
      "cuda:0\n"
     ]
    }
   ],
   "source": [
    "# Assign cuda to the device to use for training\n",
    "if torch.cuda.is_available(): \n",
    " dev = \"cuda:0\" \n",
    " print(\"This model will run on CUDA\")\n",
    "elif  torch.backends.mps.is_available(): \n",
    " dev = \"mps:0\"\n",
    " print(\"This model will run on MPS\")\n",
    "else:\n",
    " dev = \"cpu\" \n",
    " print(\"This model will run on CPU\")\n",
    "device = torch.device(dev) \n",
    "\n",
    "print(device)"
   ]
  },
  {
   "cell_type": "code",
   "execution_count": 9,
   "metadata": {},
   "outputs": [],
   "source": [
    "# Load the tokenizer and the model\n",
    "tokenizer = GPT2Tokenizer.from_pretrained(model_name)\n",
    "config = GPT2Config.from_pretrained(model_name)\n",
    "model = GPT2LMHeadModel.from_pretrained(model_name, config=config).to(device)"
   ]
  },
  {
   "cell_type": "code",
   "execution_count": 10,
   "metadata": {},
   "outputs": [],
   "source": [
    "# Ensure that the tokenizer uses the same special tokens as GPT-2\n",
    "tokenizer.pad_token = tokenizer.eos_token\n",
    "\n",
    "# Function to tokenize and format input-output pairs\n",
    "def tokenize_function(examples):\n",
    "    inputs = [f\"input: {orig} output: {corr}\" for orig, corr in zip(examples[\"original\"], examples[\"corrected\"])]\n",
    "    return tokenizer(inputs, padding=True, truncation=True, max_length=512, return_tensors='pt')"
   ]
  },
  {
   "cell_type": "code",
   "execution_count": 11,
   "metadata": {},
   "outputs": [
    {
     "data": {
      "application/vnd.jupyter.widget-view+json": {
       "model_id": "650b38c7290543569c7a4a5557d792be",
       "version_major": 2,
       "version_minor": 0
      },
      "text/plain": [
       "Map:   0%|          | 0/36000 [00:00<?, ? examples/s]"
      ]
     },
     "metadata": {},
     "output_type": "display_data"
    },
    {
     "data": {
      "application/vnd.jupyter.widget-view+json": {
       "model_id": "f217041c61154ffbae0b717f10ef3e70",
       "version_major": 2,
       "version_minor": 0
      },
      "text/plain": [
       "Map:   0%|          | 0/4000 [00:00<?, ? examples/s]"
      ]
     },
     "metadata": {},
     "output_type": "display_data"
    }
   ],
   "source": [
    "# Tokenize the train and validation data\n",
    "train_dataset = train_dataset.map(tokenize_function, batched=True, remove_columns=['original', 'corrected'])\n",
    "val_dataset = val_dataset.map(tokenize_function, batched=True, remove_columns=['original', 'corrected'])"
   ]
  },
  {
   "cell_type": "code",
   "execution_count": 12,
   "metadata": {},
   "outputs": [],
   "source": [
    "# Define the training arguments\n",
    "training_args = TrainingArguments(\n",
    "    output_dir=\"output\",\n",
    "    overwrite_output_dir=True,\n",
    "    num_train_epochs=3,\n",
    "    per_device_train_batch_size=32,\n",
    "    per_device_eval_batch_size=32,\n",
    "    eval_steps=500,\n",
    "    save_steps=500,\n",
    "    warmup_steps=200,\n",
    "    logging_dir=\"logs\",\n",
    "    evaluation_strategy=\"steps\",\n",
    "    logging_steps=100,\n",
    ")"
   ]
  },
  {
   "cell_type": "code",
   "execution_count": 13,
   "metadata": {},
   "outputs": [],
   "source": [
    "# Define a custom loss function to focus on the \"output\" tokens\n",
    "def custom_loss_function(outputs, labels):\n",
    "    shift_logits = outputs.logits[..., :-1, :].contiguous()\n",
    "    shift_labels = labels[..., 1:].contiguous()\n",
    "    loss = torch.nn.CrossEntropyLoss()(shift_logits, shift_labels)\n",
    "    return loss"
   ]
  },
  {
   "cell_type": "code",
   "execution_count": 14,
   "metadata": {},
   "outputs": [],
   "source": [
    "# Define a custom Trainer class that inherits from the original Trainer\n",
    "class CustomTrainer(Trainer):\n",
    "    \n",
    "    # Override the compute_loss method to use a custom loss function\n",
    "    def compute_loss(self, model, inputs, return_outputs=False):\n",
    "        # Get the labels from the inputs dictionary and remove them from the inputs\n",
    "        labels = inputs.pop(\"labels\")\n",
    "        \n",
    "        # Get the model outputs by passing the inputs to the model\n",
    "        outputs = model(**inputs)\n",
    "        \n",
    "        # Extract the logits from the model outputs\n",
    "        logits = outputs.logits\n",
    "        \n",
    "        # Get the correct dimensions for the shift_labels tensor\n",
    "        shift_labels = labels[..., 1:].reshape(-1)\n",
    "\n",
    "        # Reshape the shift_logits tensor to align with the dimensions of the shift_labels tensor\n",
    "        shift_logits = logits[..., :-1, :].reshape(-1, logits.size(-1))\n",
    "\n",
    "        loss = torch.nn.CrossEntropyLoss()(shift_logits, shift_labels)\n",
    "\n",
    "        if return_outputs:\n",
    "            return loss, outputs\n",
    "        \n",
    "        # Otherwise, just return the loss\n",
    "        return loss\n",
    "\n",
    "# Create the custom Trainer with the custom loss function\n",
    "trainer = CustomTrainer(\n",
    "    model=model,\n",
    "    args=training_args,\n",
    "    train_dataset=train_dataset,\n",
    "    eval_dataset=val_dataset,\n",
    "    \n",
    "    # Use the DataCollatorForLanguageModeling to handle the data collation\n",
    "    # Set mlm=False, as we are not using masked language modeling\n",
    "    data_collator=DataCollatorForLanguageModeling(tokenizer=tokenizer, mlm=False)\n",
    ")"
   ]
  },
  {
   "cell_type": "code",
   "execution_count": 15,
   "metadata": {},
   "outputs": [
    {
     "name": "stdout",
     "output_type": "stream",
     "text": [
      "GPT2LMHeadModel(\n",
      "  (transformer): GPT2Model(\n",
      "    (wte): Embedding(50257, 768)\n",
      "    (wpe): Embedding(1024, 768)\n",
      "    (drop): Dropout(p=0.1, inplace=False)\n",
      "    (h): ModuleList(\n",
      "      (0-11): 12 x GPT2Block(\n",
      "        (ln_1): LayerNorm((768,), eps=1e-05, elementwise_affine=True)\n",
      "        (attn): GPT2Attention(\n",
      "          (c_attn): Conv1D()\n",
      "          (c_proj): Conv1D()\n",
      "          (attn_dropout): Dropout(p=0.1, inplace=False)\n",
      "          (resid_dropout): Dropout(p=0.1, inplace=False)\n",
      "        )\n",
      "        (ln_2): LayerNorm((768,), eps=1e-05, elementwise_affine=True)\n",
      "        (mlp): GPT2MLP(\n",
      "          (c_fc): Conv1D()\n",
      "          (c_proj): Conv1D()\n",
      "          (act): NewGELUActivation()\n",
      "          (dropout): Dropout(p=0.1, inplace=False)\n",
      "        )\n",
      "      )\n",
      "    )\n",
      "    (ln_f): LayerNorm((768,), eps=1e-05, elementwise_affine=True)\n",
      "  )\n",
      "  (lm_head): Linear(in_features=768, out_features=50257, bias=False)\n",
      ")\n",
      "cuda:0\n"
     ]
    }
   ],
   "source": [
    "print(model)\n",
    "print(device)"
   ]
  },
  {
   "cell_type": "code",
   "execution_count": 16,
   "metadata": {},
   "outputs": [
    {
     "name": "stderr",
     "output_type": "stream",
     "text": [
      "/home/timlinux/anaconda3/envs/llama/lib/python3.10/site-packages/transformers/optimization.py:391: FutureWarning: This implementation of AdamW is deprecated and will be removed in a future version. Use the PyTorch implementation torch.optim.AdamW instead, or set `no_deprecation_warning=True` to disable this warning\n",
      "  warnings.warn(\n"
     ]
    },
    {
     "data": {
      "application/vnd.jupyter.widget-view+json": {
       "model_id": "dfd3c15e684f472ebe11acc87fc8b027",
       "version_major": 2,
       "version_minor": 0
      },
      "text/plain": [
       "  0%|          | 0/3375 [00:00<?, ?it/s]"
      ]
     },
     "metadata": {},
     "output_type": "display_data"
    },
    {
     "name": "stdout",
     "output_type": "stream",
     "text": [
      "{'loss': 2.9702, 'learning_rate': 2.5e-05, 'epoch': 0.09}\n",
      "{'loss': 2.4512, 'learning_rate': 5e-05, 'epoch': 0.18}\n",
      "{'loss': 2.4246, 'learning_rate': 4.84251968503937e-05, 'epoch': 0.27}\n",
      "{'loss': 2.363, 'learning_rate': 4.6850393700787405e-05, 'epoch': 0.36}\n",
      "{'loss': 2.3563, 'learning_rate': 4.52755905511811e-05, 'epoch': 0.44}\n"
     ]
    },
    {
     "data": {
      "application/vnd.jupyter.widget-view+json": {
       "model_id": "1b97aea8473843949331647b7e697c1f",
       "version_major": 2,
       "version_minor": 0
      },
      "text/plain": [
       "  0%|          | 0/125 [00:00<?, ?it/s]"
      ]
     },
     "metadata": {},
     "output_type": "display_data"
    },
    {
     "name": "stdout",
     "output_type": "stream",
     "text": [
      "{'eval_loss': 2.294248580932617, 'eval_runtime': 5.9726, 'eval_samples_per_second': 669.73, 'eval_steps_per_second': 20.929, 'epoch': 0.44}\n",
      "{'loss': 2.3287, 'learning_rate': 4.370078740157481e-05, 'epoch': 0.53}\n",
      "{'loss': 2.3128, 'learning_rate': 4.21259842519685e-05, 'epoch': 0.62}\n",
      "{'loss': 2.3124, 'learning_rate': 4.0551181102362204e-05, 'epoch': 0.71}\n",
      "{'loss': 2.2699, 'learning_rate': 3.8976377952755905e-05, 'epoch': 0.8}\n",
      "{'loss': 2.2986, 'learning_rate': 3.740157480314961e-05, 'epoch': 0.89}\n"
     ]
    },
    {
     "data": {
      "application/vnd.jupyter.widget-view+json": {
       "model_id": "e8068a93ea3146a090230e8a147c090b",
       "version_major": 2,
       "version_minor": 0
      },
      "text/plain": [
       "  0%|          | 0/125 [00:00<?, ?it/s]"
      ]
     },
     "metadata": {},
     "output_type": "display_data"
    },
    {
     "name": "stdout",
     "output_type": "stream",
     "text": [
      "{'eval_loss': 2.243401288986206, 'eval_runtime': 5.9842, 'eval_samples_per_second': 668.429, 'eval_steps_per_second': 20.888, 'epoch': 0.89}\n",
      "{'loss': 2.2818, 'learning_rate': 3.582677165354331e-05, 'epoch': 0.98}\n",
      "{'loss': 2.1951, 'learning_rate': 3.425196850393701e-05, 'epoch': 1.07}\n",
      "{'loss': 2.1717, 'learning_rate': 3.2677165354330704e-05, 'epoch': 1.16}\n",
      "{'loss': 2.1636, 'learning_rate': 3.110236220472441e-05, 'epoch': 1.24}\n",
      "{'loss': 2.1682, 'learning_rate': 2.952755905511811e-05, 'epoch': 1.33}\n"
     ]
    },
    {
     "data": {
      "application/vnd.jupyter.widget-view+json": {
       "model_id": "d8b90030b84e4f03ba43331bcacb26d9",
       "version_major": 2,
       "version_minor": 0
      },
      "text/plain": [
       "  0%|          | 0/125 [00:00<?, ?it/s]"
      ]
     },
     "metadata": {},
     "output_type": "display_data"
    },
    {
     "name": "stdout",
     "output_type": "stream",
     "text": [
      "{'eval_loss': 2.223203659057617, 'eval_runtime': 6.0001, 'eval_samples_per_second': 666.652, 'eval_steps_per_second': 20.833, 'epoch': 1.33}\n",
      "{'loss': 2.1572, 'learning_rate': 2.7952755905511812e-05, 'epoch': 1.42}\n",
      "{'loss': 2.1658, 'learning_rate': 2.637795275590551e-05, 'epoch': 1.51}\n",
      "{'loss': 2.1411, 'learning_rate': 2.4803149606299215e-05, 'epoch': 1.6}\n",
      "{'loss': 2.138, 'learning_rate': 2.3228346456692916e-05, 'epoch': 1.69}\n",
      "{'loss': 2.1554, 'learning_rate': 2.1653543307086614e-05, 'epoch': 1.78}\n"
     ]
    },
    {
     "data": {
      "application/vnd.jupyter.widget-view+json": {
       "model_id": "624180d6559b4dd6b5cb40d8b2a1d417",
       "version_major": 2,
       "version_minor": 0
      },
      "text/plain": [
       "  0%|          | 0/125 [00:00<?, ?it/s]"
      ]
     },
     "metadata": {},
     "output_type": "display_data"
    },
    {
     "name": "stdout",
     "output_type": "stream",
     "text": [
      "{'eval_loss': 2.2123427391052246, 'eval_runtime': 6.0098, 'eval_samples_per_second': 665.585, 'eval_steps_per_second': 20.8, 'epoch': 1.78}\n",
      "{'loss': 2.146, 'learning_rate': 2.0078740157480316e-05, 'epoch': 1.87}\n",
      "{'loss': 2.1609, 'learning_rate': 1.8503937007874017e-05, 'epoch': 1.96}\n",
      "{'loss': 2.1165, 'learning_rate': 1.692913385826772e-05, 'epoch': 2.04}\n",
      "{'loss': 2.0733, 'learning_rate': 1.535433070866142e-05, 'epoch': 2.13}\n",
      "{'loss': 2.0786, 'learning_rate': 1.377952755905512e-05, 'epoch': 2.22}\n"
     ]
    },
    {
     "data": {
      "application/vnd.jupyter.widget-view+json": {
       "model_id": "87fa4a2ea60c419da3b71a0c29edc117",
       "version_major": 2,
       "version_minor": 0
      },
      "text/plain": [
       "  0%|          | 0/125 [00:00<?, ?it/s]"
      ]
     },
     "metadata": {},
     "output_type": "display_data"
    },
    {
     "name": "stdout",
     "output_type": "stream",
     "text": [
      "{'eval_loss': 2.210512161254883, 'eval_runtime': 5.9734, 'eval_samples_per_second': 669.637, 'eval_steps_per_second': 20.926, 'epoch': 2.22}\n",
      "{'loss': 2.0812, 'learning_rate': 1.220472440944882e-05, 'epoch': 2.31}\n",
      "{'loss': 2.0771, 'learning_rate': 1.062992125984252e-05, 'epoch': 2.4}\n",
      "{'loss': 2.0745, 'learning_rate': 9.055118110236222e-06, 'epoch': 2.49}\n",
      "{'loss': 2.083, 'learning_rate': 7.4803149606299226e-06, 'epoch': 2.58}\n",
      "{'loss': 2.0814, 'learning_rate': 5.905511811023622e-06, 'epoch': 2.67}\n"
     ]
    },
    {
     "data": {
      "application/vnd.jupyter.widget-view+json": {
       "model_id": "736cd2692b20480f96ea24660a9ba018",
       "version_major": 2,
       "version_minor": 0
      },
      "text/plain": [
       "  0%|          | 0/125 [00:00<?, ?it/s]"
      ]
     },
     "metadata": {},
     "output_type": "display_data"
    },
    {
     "name": "stdout",
     "output_type": "stream",
     "text": [
      "{'eval_loss': 2.2057876586914062, 'eval_runtime': 6.0536, 'eval_samples_per_second': 660.767, 'eval_steps_per_second': 20.649, 'epoch': 2.67}\n",
      "{'loss': 2.076, 'learning_rate': 4.330708661417323e-06, 'epoch': 2.76}\n",
      "{'loss': 2.0811, 'learning_rate': 2.755905511811024e-06, 'epoch': 2.84}\n",
      "{'loss': 2.0915, 'learning_rate': 1.1811023622047244e-06, 'epoch': 2.93}\n",
      "{'train_runtime': 1183.8578, 'train_samples_per_second': 91.227, 'train_steps_per_second': 2.851, 'train_loss': 2.210198368778935, 'epoch': 3.0}\n"
     ]
    },
    {
     "data": {
      "text/plain": [
       "TrainOutput(global_step=3375, training_loss=2.210198368778935, metrics={'train_runtime': 1183.8578, 'train_samples_per_second': 91.227, 'train_steps_per_second': 2.851, 'train_loss': 2.210198368778935, 'epoch': 3.0})"
      ]
     },
     "execution_count": 16,
     "metadata": {},
     "output_type": "execute_result"
    }
   ],
   "source": [
    "# Train the model\n",
    "trainer.train()"
   ]
  },
  {
   "cell_type": "code",
   "execution_count": 17,
   "metadata": {},
   "outputs": [
    {
     "data": {
      "text/plain": [
       "('../7. Models/GPT2_MDN_40K_v2/tokenizer_config.json',\n",
       " '../7. Models/GPT2_MDN_40K_v2/special_tokens_map.json',\n",
       " '../7. Models/GPT2_MDN_40K_v2/vocab.json',\n",
       " '../7. Models/GPT2_MDN_40K_v2/merges.txt',\n",
       " '../7. Models/GPT2_MDN_40K_v2/added_tokens.json')"
      ]
     },
     "execution_count": 17,
     "metadata": {},
     "output_type": "execute_result"
    }
   ],
   "source": [
    "# Save the trained model and tokenizer\n",
    "output_dir = \"../7. Models/GPT2_\"+filename+\"/\"\n",
    "model.save_pretrained(output_dir)\n",
    "tokenizer.save_pretrained(output_dir)\n",
    "\n",
    "# Then compress with this command: tar czvf trained_model.tar.gz trained_model/\n",
    "# Upload to git/drive\n"
   ]
  },
  {
   "cell_type": "code",
   "execution_count": 18,
   "metadata": {},
   "outputs": [],
   "source": [
    "# Load trained model\n",
    "output_dir = \"../7. Models/GPT2_\"+filename+\"/\"\n",
    "model = GPT2LMHeadModel.from_pretrained(output_dir)\n",
    "tokenizer = GPT2Tokenizer.from_pretrained(output_dir)\n"
   ]
  }
 ],
 "metadata": {
  "kernelspec": {
   "display_name": "base",
   "language": "python",
   "name": "python3"
  },
  "language_info": {
   "codemirror_mode": {
    "name": "ipython",
    "version": 3
   },
   "file_extension": ".py",
   "mimetype": "text/x-python",
   "name": "python",
   "nbconvert_exporter": "python",
   "pygments_lexer": "ipython3",
   "version": "3.10.11"
  },
  "orig_nbformat": 4
 },
 "nbformat": 4,
 "nbformat_minor": 2
}
