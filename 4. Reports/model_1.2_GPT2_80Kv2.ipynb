{
 "cells": [
  {
   "cell_type": "code",
   "execution_count": 1,
   "metadata": {},
   "outputs": [],
   "source": [
    "import pandas as pd\n",
    "from sklearn.model_selection import train_test_split\n",
    "import re\n",
    "import torch\n",
    "from transformers import GPT2Tokenizer, GPT2LMHeadModel, GPT2Config, TextDataset, DataCollatorForLanguageModeling\n",
    "from transformers import Trainer, TrainingArguments\n",
    "from datasets import Dataset"
   ]
  },
  {
   "attachments": {},
   "cell_type": "markdown",
   "metadata": {},
   "source": [
    "## Important Step:\n",
    "please change the filename below to the file you want to use for training (This should not include the .csv)"
   ]
  },
  {
   "cell_type": "code",
   "execution_count": 2,
   "metadata": {},
   "outputs": [],
   "source": [
    "# Specify the training file to take. Change the hashes, filename = '###'\n",
    "filename = 'MDN_20K_v2'\n",
    "\n",
    "\n",
    "# Load the CSV file\n",
    "csv_file = '../3. Cleaned Data/'+filename+'.csv'\n",
    "df = pd.read_csv(csv_file)"
   ]
  },
  {
   "cell_type": "code",
   "execution_count": 3,
   "metadata": {},
   "outputs": [
    {
     "data": {
      "text/html": [
       "<div>\n",
       "<style scoped>\n",
       "    .dataframe tbody tr th:only-of-type {\n",
       "        vertical-align: middle;\n",
       "    }\n",
       "\n",
       "    .dataframe tbody tr th {\n",
       "        vertical-align: top;\n",
       "    }\n",
       "\n",
       "    .dataframe thead th {\n",
       "        text-align: right;\n",
       "    }\n",
       "</style>\n",
       "<table border=\"1\" class=\"dataframe\">\n",
       "  <thead>\n",
       "    <tr style=\"text-align: right;\">\n",
       "      <th></th>\n",
       "      <th>Unnamed: 0</th>\n",
       "      <th>original</th>\n",
       "      <th>corrected</th>\n",
       "      <th>original_par</th>\n",
       "      <th>corrected_par</th>\n",
       "      <th>word_count_original</th>\n",
       "      <th>word_count_corrected</th>\n",
       "      <th>word_count_diff</th>\n",
       "      <th>word_count_ratio</th>\n",
       "    </tr>\n",
       "  </thead>\n",
       "  <tbody>\n",
       "    <tr>\n",
       "      <th>0</th>\n",
       "      <td>2086</td>\n",
       "      <td>My dog was die and I lose my job, my bussness ...</td>\n",
       "      <td>My dog died and I lost my job, my business fai...</td>\n",
       "      <td>NaN</td>\n",
       "      <td>NaN</td>\n",
       "      <td>18</td>\n",
       "      <td>16</td>\n",
       "      <td>-2</td>\n",
       "      <td>0.888889</td>\n",
       "    </tr>\n",
       "    <tr>\n",
       "      <th>1</th>\n",
       "      <td>32396</td>\n",
       "      <td>I don't kown why my aesthetic standard is so s...</td>\n",
       "      <td>I don't know why my aesthetic standard is so s...</td>\n",
       "      <td>NaN</td>\n",
       "      <td>NaN</td>\n",
       "      <td>10</td>\n",
       "      <td>10</td>\n",
       "      <td>0</td>\n",
       "      <td>1.000000</td>\n",
       "    </tr>\n",
       "    <tr>\n",
       "      <th>2</th>\n",
       "      <td>84278</td>\n",
       "      <td>The technical usually in the end of the song.</td>\n",
       "      <td>I usually show my technic at the end of the song.</td>\n",
       "      <td>NaN</td>\n",
       "      <td>NaN</td>\n",
       "      <td>9</td>\n",
       "      <td>11</td>\n",
       "      <td>2</td>\n",
       "      <td>1.222222</td>\n",
       "    </tr>\n",
       "    <tr>\n",
       "      <th>3</th>\n",
       "      <td>58304</td>\n",
       "      <td>I ever be the Asian Games Volunteer.</td>\n",
       "      <td>I have ever been the Asian Games Volunteer.</td>\n",
       "      <td>NaN</td>\n",
       "      <td>NaN</td>\n",
       "      <td>7</td>\n",
       "      <td>8</td>\n",
       "      <td>1</td>\n",
       "      <td>1.142857</td>\n",
       "    </tr>\n",
       "    <tr>\n",
       "      <th>4</th>\n",
       "      <td>76587</td>\n",
       "      <td>I want to change it!</td>\n",
       "      <td>I want to change this!</td>\n",
       "      <td>NaN</td>\n",
       "      <td>NaN</td>\n",
       "      <td>5</td>\n",
       "      <td>5</td>\n",
       "      <td>0</td>\n",
       "      <td>1.000000</td>\n",
       "    </tr>\n",
       "  </tbody>\n",
       "</table>\n",
       "</div>"
      ],
      "text/plain": [
       "   Unnamed: 0                                           original   \n",
       "0        2086  My dog was die and I lose my job, my bussness ...  \\\n",
       "1       32396  I don't kown why my aesthetic standard is so s...   \n",
       "2       84278      The technical usually in the end of the song.   \n",
       "3       58304               I ever be the Asian Games Volunteer.   \n",
       "4       76587                               I want to change it!   \n",
       "\n",
       "                                           corrected  original_par   \n",
       "0  My dog died and I lost my job, my business fai...           NaN  \\\n",
       "1  I don't know why my aesthetic standard is so s...           NaN   \n",
       "2  I usually show my technic at the end of the song.           NaN   \n",
       "3        I have ever been the Asian Games Volunteer.           NaN   \n",
       "4                             I want to change this!           NaN   \n",
       "\n",
       "   corrected_par  word_count_original  word_count_corrected  word_count_diff   \n",
       "0            NaN                   18                    16               -2  \\\n",
       "1            NaN                   10                    10                0   \n",
       "2            NaN                    9                    11                2   \n",
       "3            NaN                    7                     8                1   \n",
       "4            NaN                    5                     5                0   \n",
       "\n",
       "   word_count_ratio  \n",
       "0          0.888889  \n",
       "1          1.000000  \n",
       "2          1.222222  \n",
       "3          1.142857  \n",
       "4          1.000000  "
      ]
     },
     "execution_count": 3,
     "metadata": {},
     "output_type": "execute_result"
    }
   ],
   "source": [
    "df.head()"
   ]
  },
  {
   "cell_type": "code",
   "execution_count": 4,
   "metadata": {},
   "outputs": [],
   "source": [
    "# Change the column names in the dataframe\n",
    "df.rename(columns = {'corrected_fs':'corrected'}, inplace = True)"
   ]
  },
  {
   "cell_type": "code",
   "execution_count": 5,
   "metadata": {},
   "outputs": [],
   "source": [
    "# Split the dataset into train and validation sets\n",
    "train_df, val_df = train_test_split(df, test_size=0.1, random_state=42)\n",
    "\n",
    "# Convert the train and validation DataFrames to Hugging Face's Dataset instances\n",
    "train_dataset = Dataset.from_pandas(train_df)\n",
    "val_dataset = Dataset.from_pandas(val_df)"
   ]
  },
  {
   "cell_type": "code",
   "execution_count": 6,
   "metadata": {},
   "outputs": [],
   "source": [
    "# Export the validation set\n",
    "val_file = './../3. Cleaned Data/'+filename+'_val.csv'\n",
    "val_df.to_csv(val_file, index=False)"
   ]
  },
  {
   "cell_type": "code",
   "execution_count": 7,
   "metadata": {},
   "outputs": [],
   "source": [
    "# Chose the model\n",
    "model_name = 'gpt2'"
   ]
  },
  {
   "cell_type": "code",
   "execution_count": 8,
   "metadata": {},
   "outputs": [
    {
     "name": "stdout",
     "output_type": "stream",
     "text": [
      "This model will run on CUDA\n",
      "cuda:0\n"
     ]
    }
   ],
   "source": [
    "# Assign cuda to the device to use for training\n",
    "if torch.cuda.is_available(): \n",
    " dev = \"cuda:0\" \n",
    " print(\"This model will run on CUDA\")\n",
    "elif  torch.backends.mps.is_available(): \n",
    " dev = \"mps:0\"\n",
    " print(\"This model will run on MPS\")\n",
    "else:\n",
    " dev = \"cpu\" \n",
    " print(\"This model will run on CPU\")\n",
    "device = torch.device(dev) \n",
    "\n",
    "print(device)"
   ]
  },
  {
   "cell_type": "code",
   "execution_count": 9,
   "metadata": {},
   "outputs": [],
   "source": [
    "# Load the tokenizer and the model\n",
    "tokenizer = GPT2Tokenizer.from_pretrained(model_name)\n",
    "config = GPT2Config.from_pretrained(model_name)\n",
    "model = GPT2LMHeadModel.from_pretrained(model_name, config=config).to(device)"
   ]
  },
  {
   "cell_type": "code",
   "execution_count": 10,
   "metadata": {},
   "outputs": [],
   "source": [
    "# Ensure that the tokenizer uses the same special tokens as GPT-2\n",
    "tokenizer.pad_token = tokenizer.eos_token\n",
    "\n",
    "# Function to tokenize and format input-output pairs\n",
    "def tokenize_function(examples):\n",
    "    inputs = [f\"input: {orig} output: {corr}\" for orig, corr in zip(examples[\"original\"], examples[\"corrected\"])]\n",
    "    return tokenizer(inputs, padding=True, truncation=True, max_length=512, return_tensors='pt')"
   ]
  },
  {
   "cell_type": "code",
   "execution_count": 11,
   "metadata": {},
   "outputs": [
    {
     "data": {
      "application/vnd.jupyter.widget-view+json": {
       "model_id": "36fed02849fc4a6bb2fa19c6500c5449",
       "version_major": 2,
       "version_minor": 0
      },
      "text/plain": [
       "Map:   0%|          | 0/18000 [00:00<?, ? examples/s]"
      ]
     },
     "metadata": {},
     "output_type": "display_data"
    },
    {
     "data": {
      "application/vnd.jupyter.widget-view+json": {
       "model_id": "9810f188ffb64a86bea3459b8ea46858",
       "version_major": 2,
       "version_minor": 0
      },
      "text/plain": [
       "Map:   0%|          | 0/2000 [00:00<?, ? examples/s]"
      ]
     },
     "metadata": {},
     "output_type": "display_data"
    }
   ],
   "source": [
    "# Tokenize the train and validation data\n",
    "train_dataset = train_dataset.map(tokenize_function, batched=True, remove_columns=['original', 'corrected'])\n",
    "val_dataset = val_dataset.map(tokenize_function, batched=True, remove_columns=['original', 'corrected'])"
   ]
  },
  {
   "cell_type": "code",
   "execution_count": 12,
   "metadata": {},
   "outputs": [],
   "source": [
    "# Define the training arguments\n",
    "training_args = TrainingArguments(\n",
    "    output_dir=\"output\",\n",
    "    overwrite_output_dir=True,\n",
    "    num_train_epochs=3,\n",
    "    per_device_train_batch_size=32,\n",
    "    per_device_eval_batch_size=32,\n",
    "    eval_steps=500,\n",
    "    save_steps=500,\n",
    "    warmup_steps=200,\n",
    "    logging_dir=\"logs\",\n",
    "    evaluation_strategy=\"steps\",\n",
    "    logging_steps=100,\n",
    ")"
   ]
  },
  {
   "cell_type": "code",
   "execution_count": 13,
   "metadata": {},
   "outputs": [],
   "source": [
    "# Define a custom loss function to focus on the \"output\" tokens\n",
    "def custom_loss_function(outputs, labels):\n",
    "    shift_logits = outputs.logits[..., :-1, :].contiguous()\n",
    "    shift_labels = labels[..., 1:].contiguous()\n",
    "    loss = torch.nn.CrossEntropyLoss()(shift_logits, shift_labels)\n",
    "    return loss"
   ]
  },
  {
   "cell_type": "code",
   "execution_count": 14,
   "metadata": {},
   "outputs": [],
   "source": [
    "# Define a custom Trainer class that inherits from the original Trainer\n",
    "class CustomTrainer(Trainer):\n",
    "    \n",
    "    # Override the compute_loss method to use a custom loss function\n",
    "    def compute_loss(self, model, inputs, return_outputs=False):\n",
    "        # Get the labels from the inputs dictionary and remove them from the inputs\n",
    "        labels = inputs.pop(\"labels\")\n",
    "        \n",
    "        # Get the model outputs by passing the inputs to the model\n",
    "        outputs = model(**inputs)\n",
    "        \n",
    "        # Extract the logits from the model outputs\n",
    "        logits = outputs.logits\n",
    "        \n",
    "        # Get the correct dimensions for the shift_labels tensor\n",
    "        shift_labels = labels[..., 1:].reshape(-1)\n",
    "\n",
    "        # Reshape the shift_logits tensor to align with the dimensions of the shift_labels tensor\n",
    "        shift_logits = logits[..., :-1, :].reshape(-1, logits.size(-1))\n",
    "\n",
    "        loss = torch.nn.CrossEntropyLoss()(shift_logits, shift_labels)\n",
    "\n",
    "        if return_outputs:\n",
    "            return loss, outputs\n",
    "        \n",
    "        # Otherwise, just return the loss\n",
    "        return loss\n",
    "\n",
    "# Create the custom Trainer with the custom loss function\n",
    "trainer = CustomTrainer(\n",
    "    model=model,\n",
    "    args=training_args,\n",
    "    train_dataset=train_dataset,\n",
    "    eval_dataset=val_dataset,\n",
    "    \n",
    "    # Use the DataCollatorForLanguageModeling to handle the data collation\n",
    "    # Set mlm=False, as we are not using masked language modeling\n",
    "    data_collator=DataCollatorForLanguageModeling(tokenizer=tokenizer, mlm=False)\n",
    ")"
   ]
  },
  {
   "cell_type": "code",
   "execution_count": 15,
   "metadata": {},
   "outputs": [
    {
     "name": "stdout",
     "output_type": "stream",
     "text": [
      "GPT2LMHeadModel(\n",
      "  (transformer): GPT2Model(\n",
      "    (wte): Embedding(50257, 768)\n",
      "    (wpe): Embedding(1024, 768)\n",
      "    (drop): Dropout(p=0.1, inplace=False)\n",
      "    (h): ModuleList(\n",
      "      (0-11): 12 x GPT2Block(\n",
      "        (ln_1): LayerNorm((768,), eps=1e-05, elementwise_affine=True)\n",
      "        (attn): GPT2Attention(\n",
      "          (c_attn): Conv1D()\n",
      "          (c_proj): Conv1D()\n",
      "          (attn_dropout): Dropout(p=0.1, inplace=False)\n",
      "          (resid_dropout): Dropout(p=0.1, inplace=False)\n",
      "        )\n",
      "        (ln_2): LayerNorm((768,), eps=1e-05, elementwise_affine=True)\n",
      "        (mlp): GPT2MLP(\n",
      "          (c_fc): Conv1D()\n",
      "          (c_proj): Conv1D()\n",
      "          (act): NewGELUActivation()\n",
      "          (dropout): Dropout(p=0.1, inplace=False)\n",
      "        )\n",
      "      )\n",
      "    )\n",
      "    (ln_f): LayerNorm((768,), eps=1e-05, elementwise_affine=True)\n",
      "  )\n",
      "  (lm_head): Linear(in_features=768, out_features=50257, bias=False)\n",
      ")\n",
      "cuda:0\n"
     ]
    }
   ],
   "source": [
    "print(model)\n",
    "print(device)"
   ]
  },
  {
   "cell_type": "code",
   "execution_count": 16,
   "metadata": {},
   "outputs": [
    {
     "name": "stderr",
     "output_type": "stream",
     "text": [
      "/home/timlinux/anaconda3/envs/llama/lib/python3.10/site-packages/transformers/optimization.py:391: FutureWarning: This implementation of AdamW is deprecated and will be removed in a future version. Use the PyTorch implementation torch.optim.AdamW instead, or set `no_deprecation_warning=True` to disable this warning\n",
      "  warnings.warn(\n"
     ]
    },
    {
     "data": {
      "application/vnd.jupyter.widget-view+json": {
       "model_id": "c9304114b6c34208ab7fea5528e8c1b7",
       "version_major": 2,
       "version_minor": 0
      },
      "text/plain": [
       "  0%|          | 0/1689 [00:00<?, ?it/s]"
      ]
     },
     "metadata": {},
     "output_type": "display_data"
    },
    {
     "name": "stdout",
     "output_type": "stream",
     "text": [
      "{'loss': 3.0427, 'learning_rate': 2.5e-05, 'epoch': 0.18}\n",
      "{'loss': 2.5509, 'learning_rate': 5e-05, 'epoch': 0.36}\n",
      "{'loss': 2.4852, 'learning_rate': 4.664204163868368e-05, 'epoch': 0.53}\n",
      "{'loss': 2.4492, 'learning_rate': 4.3284083277367364e-05, 'epoch': 0.71}\n",
      "{'loss': 2.4355, 'learning_rate': 3.9926124916051045e-05, 'epoch': 0.89}\n"
     ]
    },
    {
     "data": {
      "application/vnd.jupyter.widget-view+json": {
       "model_id": "d1ae16b3f05f4e44bface9d10fe0fdf6",
       "version_major": 2,
       "version_minor": 0
      },
      "text/plain": [
       "  0%|          | 0/63 [00:00<?, ?it/s]"
      ]
     },
     "metadata": {},
     "output_type": "display_data"
    },
    {
     "name": "stdout",
     "output_type": "stream",
     "text": [
      "{'eval_loss': 2.3500618934631348, 'eval_runtime': 5.0896, 'eval_samples_per_second': 392.959, 'eval_steps_per_second': 12.378, 'epoch': 0.89}\n",
      "{'loss': 2.3621, 'learning_rate': 3.6568166554734725e-05, 'epoch': 1.07}\n",
      "{'loss': 2.3002, 'learning_rate': 3.32102081934184e-05, 'epoch': 1.24}\n",
      "{'loss': 2.271, 'learning_rate': 2.9852249832102087e-05, 'epoch': 1.42}\n",
      "{'loss': 2.2643, 'learning_rate': 2.6494291470785764e-05, 'epoch': 1.6}\n",
      "{'loss': 2.3108, 'learning_rate': 2.3136333109469445e-05, 'epoch': 1.78}\n"
     ]
    },
    {
     "data": {
      "application/vnd.jupyter.widget-view+json": {
       "model_id": "bdb6148032df4b3cba97ca2fe16dbfe3",
       "version_major": 2,
       "version_minor": 0
      },
      "text/plain": [
       "  0%|          | 0/63 [00:00<?, ?it/s]"
      ]
     },
     "metadata": {},
     "output_type": "display_data"
    },
    {
     "name": "stdout",
     "output_type": "stream",
     "text": [
      "{'eval_loss': 2.317484140396118, 'eval_runtime': 4.9403, 'eval_samples_per_second': 404.83, 'eval_steps_per_second': 12.752, 'epoch': 1.78}\n",
      "{'loss': 2.2656, 'learning_rate': 1.9778374748153125e-05, 'epoch': 1.95}\n",
      "{'loss': 2.2205, 'learning_rate': 1.6420416386836803e-05, 'epoch': 2.13}\n",
      "{'loss': 2.2013, 'learning_rate': 1.3062458025520485e-05, 'epoch': 2.31}\n",
      "{'loss': 2.1893, 'learning_rate': 9.704499664204164e-06, 'epoch': 2.49}\n",
      "{'loss': 2.199, 'learning_rate': 6.346541302887844e-06, 'epoch': 2.66}\n"
     ]
    },
    {
     "data": {
      "application/vnd.jupyter.widget-view+json": {
       "model_id": "f9424edd2bb34b4ba7470fc69dda3f4f",
       "version_major": 2,
       "version_minor": 0
      },
      "text/plain": [
       "  0%|          | 0/63 [00:00<?, ?it/s]"
      ]
     },
     "metadata": {},
     "output_type": "display_data"
    },
    {
     "name": "stdout",
     "output_type": "stream",
     "text": [
      "{'eval_loss': 2.3089771270751953, 'eval_runtime': 4.9892, 'eval_samples_per_second': 400.866, 'eval_steps_per_second': 12.627, 'epoch': 2.66}\n",
      "{'loss': 2.1755, 'learning_rate': 2.988582941571525e-06, 'epoch': 2.84}\n",
      "{'train_runtime': 629.2269, 'train_samples_per_second': 85.82, 'train_steps_per_second': 2.684, 'train_loss': 2.3493096016792943, 'epoch': 3.0}\n"
     ]
    },
    {
     "data": {
      "text/plain": [
       "TrainOutput(global_step=1689, training_loss=2.3493096016792943, metrics={'train_runtime': 629.2269, 'train_samples_per_second': 85.82, 'train_steps_per_second': 2.684, 'train_loss': 2.3493096016792943, 'epoch': 3.0})"
      ]
     },
     "execution_count": 16,
     "metadata": {},
     "output_type": "execute_result"
    }
   ],
   "source": [
    "# Train the model\n",
    "trainer.train()"
   ]
  },
  {
   "cell_type": "code",
   "execution_count": 17,
   "metadata": {},
   "outputs": [
    {
     "data": {
      "text/plain": [
       "('../7. Models/GPT2_MDN_20K_v2/tokenizer_config.json',\n",
       " '../7. Models/GPT2_MDN_20K_v2/special_tokens_map.json',\n",
       " '../7. Models/GPT2_MDN_20K_v2/vocab.json',\n",
       " '../7. Models/GPT2_MDN_20K_v2/merges.txt',\n",
       " '../7. Models/GPT2_MDN_20K_v2/added_tokens.json')"
      ]
     },
     "execution_count": 17,
     "metadata": {},
     "output_type": "execute_result"
    }
   ],
   "source": [
    "# Save the trained model and tokenizer\n",
    "output_dir = \"../7. Models/GPT2_\"+filename+\"/\"\n",
    "model.save_pretrained(output_dir)\n",
    "tokenizer.save_pretrained(output_dir)\n",
    "\n",
    "# Then compress with this command: tar czvf trained_model.tar.gz trained_model/\n",
    "# Upload to git/drive\n"
   ]
  },
  {
   "cell_type": "code",
   "execution_count": 18,
   "metadata": {},
   "outputs": [],
   "source": [
    "# Load trained model\n",
    "output_dir = \"../7. Models/GPT2_\"+filename+\"/\"\n",
    "model = GPT2LMHeadModel.from_pretrained(output_dir)\n",
    "tokenizer = GPT2Tokenizer.from_pretrained(output_dir)\n"
   ]
  }
 ],
 "metadata": {
  "kernelspec": {
   "display_name": "base",
   "language": "python",
   "name": "python3"
  },
  "language_info": {
   "codemirror_mode": {
    "name": "ipython",
    "version": 3
   },
   "file_extension": ".py",
   "mimetype": "text/x-python",
   "name": "python",
   "nbconvert_exporter": "python",
   "pygments_lexer": "ipython3",
   "version": "3.10.11"
  },
  "orig_nbformat": 4
 },
 "nbformat": 4,
 "nbformat_minor": 2
}
